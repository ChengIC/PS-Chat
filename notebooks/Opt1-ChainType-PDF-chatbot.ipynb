{
 "cells": [
  {
   "cell_type": "markdown",
   "id": "20a51b92",
   "metadata": {},
   "source": [
    "# In the Notebook \"Workflow of PDF Chatbot\", we can have different options for the type of chains. This notebook is used to investigate the influence of chain type parameters"
   ]
  },
  {
   "cell_type": "code",
   "execution_count": 1,
   "id": "2c26a32d",
   "metadata": {},
   "outputs": [
    {
     "name": "stderr",
     "output_type": "stream",
     "text": [
      "/home/rc/.local/lib/python3.10/site-packages/pinecone/index.py:4: TqdmExperimentalWarning: Using `tqdm.autonotebook.tqdm` in notebook mode. Use `tqdm.tqdm` instead to force console mode (e.g. in jupyter console)\n",
      "  from tqdm.autonotebook import tqdm\n"
     ]
    }
   ],
   "source": [
    "from langchain.text_splitter import RecursiveCharacterTextSplitter\n",
    "from langchain.embeddings.openai import OpenAIEmbeddings\n",
    "from langchain.vectorstores import Pinecone\n",
    "from langchain.document_loaders import DirectoryLoader\n",
    "import os \n",
    "from dotenv import load_dotenv\n",
    "import pinecone\n",
    "\n",
    "load_dotenv()\n",
    "openai_key = os.getenv('OPENAI_KEY')\n",
    "os.environ['OPENAI_API_KEY'] = openai_key\n",
    "embeddings = OpenAIEmbeddings()\n",
    "\n",
    "\n",
    "pinecone_api_key = os.getenv('PINECONE_KEY')\n",
    "pinecone_env_name = os.getenv('PINECONE_ENV')\n",
    "pinecone_index_name = os.getenv('PINECONE_INDEX')\n",
    "\n",
    "pinecone_config = {\n",
    "    \"api_key\":pinecone_api_key,\n",
    "    \"env_name\":pinecone_env_name,\n",
    "    \"index_name\":pinecone_index_name\n",
    "}"
   ]
  },
  {
   "cell_type": "markdown",
   "id": "47a03841",
   "metadata": {},
   "source": [
    "# Load pdfs"
   ]
  },
  {
   "cell_type": "code",
   "execution_count": 2,
   "id": "64212bbc",
   "metadata": {},
   "outputs": [],
   "source": [
    "def upload_pdf_to_pinecone(pdf_directory, pinecone_config, my_namespace,\n",
    "                            chunk_size=1000, chunk_overlap=0):\n",
    "    \n",
    "    \n",
    "    my_loader = DirectoryLoader(pdf_directory, glob='**/*.pdf')\n",
    "    documents = my_loader.load()\n",
    "    text_splitter = RecursiveCharacterTextSplitter(chunk_size = chunk_size, chunk_overlap = chunk_overlap)\n",
    "    docs = text_splitter.split_documents(documents)\n",
    "    \n",
    "    # initialize pinecone\n",
    "    pinecone.init(\n",
    "        api_key=pinecone_config['api_key'],  # find at app.pinecone.io\n",
    "        environment=pinecone_config['env_name']  # next to api key in console\n",
    "    )\n",
    "    \n",
    "    docsearch = Pinecone.from_documents(docs, embeddings, index_name=pinecone_config['index_name'], namespace=my_namespace)\n",
    "    "
   ]
  },
  {
   "cell_type": "code",
   "execution_count": 3,
   "id": "c3c86316",
   "metadata": {},
   "outputs": [],
   "source": [
    "# Upload pdfs if you first run this notebook, \n",
    "# this operation could take a while if documents are long\n",
    "\n",
    "# pdf_directory = \"../docs\"\n",
    "# my_namespace = 'Unilever-2018-2019'\n",
    "# upload_pdf_to_pinecone(pdf_directory, pinecone_config, my_namespace, chunk_size=1000, chunk_overlap=200)"
   ]
  },
  {
   "cell_type": "markdown",
   "id": "a74ed7bb",
   "metadata": {},
   "source": [
    "# Load Vectorstore"
   ]
  },
  {
   "cell_type": "code",
   "execution_count": 4,
   "id": "21265462",
   "metadata": {},
   "outputs": [],
   "source": [
    "# Load vector store\n",
    "my_namespace = 'Unilever-2018-2019'\n",
    "pinecone.init(api_key=pinecone_api_key,environment=pinecone_env_name)\n",
    "index = pinecone.Index(pinecone_index_name)\n",
    "vectorstore = Pinecone(index, embeddings.embed_query, \"text\", namespace=my_namespace)"
   ]
  },
  {
   "cell_type": "markdown",
   "id": "930dc4d6",
   "metadata": {},
   "source": [
    "# Option 1. Stuff Chain"
   ]
  },
  {
   "cell_type": "markdown",
   "id": "3a0c2c90",
   "metadata": {},
   "source": [
    "ref: https://python.langchain.com/docs/modules/chains/document/stuff"
   ]
  },
  {
   "cell_type": "markdown",
   "id": "a995af57",
   "metadata": {},
   "source": [
    "<font size=4 color=green>  The stuff documents chain (\"stuff\" as in \"to stuff\" or \"to fill\") is the most straightforward of the document chains. It takes a list of documents, inserts them all into a prompt and passes that prompt to an LLM. This chain is well-suited for applications where documents are small and only a few are passed in for most calls."
   ]
  },
  {
   "cell_type": "code",
   "execution_count": 6,
   "id": "d235f158",
   "metadata": {},
   "outputs": [
    {
     "data": {
      "text/plain": [
       "{'output_text': ' A slowed technological change could risk affecting our data management enhancement programmes by making it difficult to manage the business, increasing the cost of recycled plastic or other alternative packaging materials, and making products less affordable or less available for our consumers.\\nSOURCES: ../docs/unilever-annual-report-and-accounts-2019.pdf'}"
      ]
     },
     "execution_count": 6,
     "metadata": {},
     "output_type": "execute_result"
    }
   ],
   "source": [
    "from langchain.llms import OpenAI\n",
    "from langchain.chains.qa_with_sources import load_qa_with_sources_chain\n",
    "\n",
    "chain = load_qa_with_sources_chain(OpenAI(temperature=0), chain_type=\"stuff\")\n",
    "query = \"In what ways could a slowed technological change risk affect our data management enhancement programmes?\"\n",
    "ref_docs = vectorstore.similarity_search(query, k=10)\n",
    "\n",
    "chain({\"input_documents\": ref_docs, \"question\": query}, return_only_outputs=True)"
   ]
  },
  {
   "cell_type": "markdown",
   "id": "55957f6c",
   "metadata": {},
   "source": [
    "# Option 2. Map_reduce\n",
    "ref: https://python.langchain.com/docs/modules/chains/document/map_reduce"
   ]
  },
  {
   "cell_type": "markdown",
   "id": "fb7fdc3d",
   "metadata": {},
   "source": [
    "<font size=4 color=green> The map reduce documents chain first applies an LLM chain to each document individually (the Map step), treating the chain output as a new document. It then passes all the new documents to a separate combine documents chain to get a single output (the Reduce step). It can optionally first compress, or collapse, the mapped documents to make sure that they fit in the combine documents chain (which will often pass them to an LLM). This compression step is performed recursively if necessary."
   ]
  },
  {
   "cell_type": "code",
   "execution_count": 7,
   "id": "373a55bc",
   "metadata": {},
   "outputs": [
    {
     "data": {
      "text/plain": [
       "{'intermediate_steps': [' No relevant text.',\n",
       "  ' None.',\n",
       "  ' No relevant text.',\n",
       "  ' None.',\n",
       "  ' None.',\n",
       "  ' Technology continues to change the fabric of life and business. Enhanced AI, robotics and the internet of things (IoT) are reshaping how people live, work and interact with the world – and with brands. Intelligent technologies are optimising manufacturing and agriculture, connecting global businesses like ours inside and out, and changing how people shop.',\n",
       "  ' None',\n",
       "  ' None',\n",
       "  ' None',\n",
       "  ' No relevant text.'],\n",
       " 'output_text': \" I don't know.\\nSOURCES: None.\"}"
      ]
     },
     "execution_count": 7,
     "metadata": {},
     "output_type": "execute_result"
    }
   ],
   "source": [
    "chain = load_qa_with_sources_chain(OpenAI(temperature=0), chain_type=\"map_reduce\", return_intermediate_steps=True)\n",
    "query = \"In what ways could a slowed technological change risk affect our data management enhancement programmes?\"\n",
    "ref_docs = vectorstore.similarity_search(query, k=10)\n",
    "\n",
    "chain({\"input_documents\": ref_docs, \"question\": query}, return_only_outputs=True)"
   ]
  },
  {
   "cell_type": "markdown",
   "id": "62ae39fb",
   "metadata": {},
   "source": [
    "# Option 3. Refine\n",
    "ref: https://python.langchain.com/docs/modules/chains/document/refine"
   ]
  },
  {
   "cell_type": "markdown",
   "id": "261bb610",
   "metadata": {},
   "source": [
    "<font size=4 color=green> The refine documents chain constructs a response by looping over the input documents and iteratively updating its answer. For each document, it passes all non-document inputs, the current document, and the latest intermediate answer to an LLM chain to get a new answer.\n",
    "\n",
    "<font size=4 color=green> Since the Refine chain only passes a single document to the LLM at a time, it is well-suited for tasks that require analyzing more documents than can fit in the model's context. The obvious tradeoff is that this chain will make far more LLM calls than, for example, the Stuff documents chain. There are also certain tasks which are difficult to accomplish iteratively. For example, the Refine chain can perform poorly when documents frequently cross-reference one another or when a task requires detailed information from many documents."
   ]
  },
  {
   "cell_type": "code",
   "execution_count": 8,
   "id": "69a319c3",
   "metadata": {},
   "outputs": [
    {
     "data": {
      "text/plain": [
       "{'intermediate_steps': ['\\nA slowed technological change could risk affecting our data management enhancement programmes by reducing the speed at which new products can be developed and deployed. This could lead to a delay in the implementation of new technologies and data management strategies, which could result in a lack of competitive advantage and a decrease in consumer satisfaction. Additionally, a slowed technological change could lead to a decrease in the quality of data collected, as well as a decrease in the accuracy of data analysis. This could lead to a decrease in the effectiveness of data management enhancement programmes.',\n",
       "  '\\n\\nA slowed technological change could risk affecting our data management enhancement programmes by reducing the speed at which new products can be developed and deployed. This could lead to a delay in the implementation of new technologies and data management strategies, which could result in a lack of competitive advantage and a decrease in consumer satisfaction. Additionally, a slowed technological change could lead to a decrease in the quality of data collected, as well as a decrease in the accuracy of data analysis. This could lead to a decrease in the effectiveness of data management enhancement programmes, resulting in under-delivery of the expected benefits and a significant impact on the value of the business. Furthermore, economic and political instability could further exacerbate the risk of a slowed technological change, as Unilever may not be able to respond quickly to develop new offerings that suit consumers’ and customers’ changing needs during economic downturns.\\n\\nSource: \\n- ../docs/unilever-annual-report-and-accounts-2019.pdf\\n- Original Answer',\n",
       "  '\\n\\nA slowed technological change could risk affecting our data management enhancement programmes by reducing the speed at which new products can be developed and deployed. This could lead to a delay in the implementation of new technologies and data management strategies, which could result in a lack of competitive advantage and a decrease in consumer satisfaction. Additionally, a slowed technological change could lead to a decrease in the quality of data collected, as well as a decrease in the accuracy of data analysis. This could lead to a decrease in the effectiveness of data management enhancement programmes, resulting in under-delivery of the expected benefits and a significant impact on the value of the business. Furthermore, economic and political instability could further exacerbate the risk of a slowed technological change, as Unilever may not be able to respond quickly to develop new offerings that suit consumers’ and customers’ changing needs during economic downturns. Additionally, a slowed technological change could also lead to a decrease in the availability of key personnel and materials needed to manage the business, as well as a disruption in the supply chain, which could further impede the effectiveness of data management enhancement programmes. \\n\\nSource: \\n- ../docs/unilever-annual-report-and-accounts-2019.pdf\\n- Original Answer',\n",
       "  '\\n\\nA slowed technological change could risk affecting our data management enhancement programmes by reducing the speed at which new products can be developed and deployed. This could lead to a delay in the implementation of new technologies and data management strategies, which could result in a lack of competitive advantage and a decrease in consumer satisfaction. Additionally, a slowed technological change could lead to a decrease in the quality of data collected, as well as a decrease in the accuracy of data analysis. This could lead to a decrease in the effectiveness of data management enhancement programmes, resulting in under-delivery of the expected benefits and a significant impact on the value of the business. Furthermore, economic and political instability could further exacerbate the risk of a slowed technological change, as Unilever may not be able to respond quickly to develop new offerings that suit consumers’ and customers’ changing needs during economic downturns. Additionally, a slowed technological change could also lead to a decrease in the availability of key personnel and materials needed to manage the business, as well as a disruption in the supply chain, which could further impede the effectiveness of data management enhancement programmes. Climate change, plastic packaging, ethical, business transformation, supply chain, customer, systems and information, and the future of work are all areas that could be impacted by'],\n",
       " 'output_text': '\\n\\nA slowed technological change could risk affecting our data management enhancement programmes by reducing the speed at which new products can be developed and deployed. This could lead to a delay in the implementation of new technologies and data management strategies, which could result in a lack of competitive advantage and a decrease in consumer satisfaction. Additionally, a slowed technological change could lead to a decrease in the quality of data collected, as well as a decrease in the accuracy of data analysis. This could lead to a decrease in the effectiveness of data management enhancement programmes, resulting in under-delivery of the expected benefits and a significant impact on the value of the business. Furthermore, economic and political instability could further exacerbate the risk of a slowed technological change, as Unilever may not be able to respond quickly to develop new offerings that suit consumers’ and customers’ changing needs during economic downturns. Additionally, a slowed technological change could also lead to a decrease in the availability of key personnel and materials needed to manage the business, as well as a disruption in the supply chain, which could further impede the effectiveness of data management enhancement programmes. Climate change, plastic packaging, ethical, business transformation, supply chain, customer, systems and information, and the future of work are all areas that could be impacted by'}"
      ]
     },
     "execution_count": 8,
     "metadata": {},
     "output_type": "execute_result"
    }
   ],
   "source": [
    "chain = load_qa_with_sources_chain(OpenAI(temperature=0), chain_type=\"refine\", return_intermediate_steps=True)\n",
    "query = \"In what ways could a slowed technological change risk affect our data management enhancement programmes?\"\n",
    "ref_docs = vectorstore.similarity_search(query, k=4)\n",
    "\n",
    "chain({\"input_documents\": ref_docs, \"question\": query}, return_only_outputs=True)"
   ]
  },
  {
   "cell_type": "markdown",
   "id": "242e09fb",
   "metadata": {},
   "source": [
    "# Option 4. Map_Rerank\n",
    "ref: https://python.langchain.com/docs/modules/chains/document/map_rerank"
   ]
  },
  {
   "cell_type": "markdown",
   "id": "fb583d92",
   "metadata": {},
   "source": [
    "<font size=4 color=green> The map re-rank documents chain runs an initial prompt on each document, that not only tries to complete a task but also gives a score for how certain it is in its answer. The highest scoring response is returned."
   ]
  },
  {
   "cell_type": "code",
   "execution_count": 9,
   "id": "d8959510",
   "metadata": {},
   "outputs": [
    {
     "data": {
      "text/plain": [
       "{'intermediate_steps': [{'answer': ' Slowed technological change could affect our data management enhancement programmes by reducing the speed at which we can develop and deploy new communication technologies, reducing the speed at which we can develop and deploy new products to meet changing consumer trends, and reducing the speed at which we can convert category strategies into projects.',\n",
       "   'score': '90'},\n",
       "  {'answer': ' This document does not answer the question.', 'score': '0'},\n",
       "  {'answer': ' This document does not answer the question.', 'score': '0'},\n",
       "  {'answer': ' Slowed technological change could limit the effectiveness of data management enhancement programmes, as the programmes may not be able to keep up with the latest technology.',\n",
       "   'score': '80'}],\n",
       " 'output_text': ' Slowed technological change could affect our data management enhancement programmes by reducing the speed at which we can develop and deploy new communication technologies, reducing the speed at which we can develop and deploy new products to meet changing consumer trends, and reducing the speed at which we can convert category strategies into projects.'}"
      ]
     },
     "execution_count": 9,
     "metadata": {},
     "output_type": "execute_result"
    }
   ],
   "source": [
    "chain = load_qa_with_sources_chain(OpenAI(temperature=0), chain_type=\"map_rerank\", return_intermediate_steps=True)\n",
    "query = \"In what ways could a slowed technological change risk affect our data management enhancement programmes?\"\n",
    "ref_docs = vectorstore.similarity_search(query, k=4)\n",
    "\n",
    "chain({\"input_documents\": ref_docs, \"question\": query}, return_only_outputs=True)"
   ]
  },
  {
   "cell_type": "markdown",
   "id": "e5071719",
   "metadata": {},
   "source": [
    "<font size =4 color=\"blue\"> 1. \"Stuff\" puts all referenced documents into prompt and get the response straight forward. (ALL)\n",
    "\n",
    "<font size =4 color=\"blue\"> 2. \"Map-reduce\" applies each document individually and then treating the output as a new document, and then passes all the new documents to a separate combine documents chain to get a single output (Compression).\n",
    "    \n",
    "<font size =4 color=\"blue\"> 3. \"Refine\" pass one document at a time, and iteratively updating its answer (Iteration)\n",
    "\n",
    "<font size =4 color=\"blue\"> 4. \"Re-rank\" rank the response with the input with one referenced document (Ranking)"
   ]
  },
  {
   "cell_type": "markdown",
   "id": "dade460a",
   "metadata": {},
   "source": [
    "<font size =4 color = green > In terms of application, stuff is suitable when we divided the document into small chunks. \"Map-reduce\" is suitable when the chunk is big as compression is applied. Refine is suitable for high level questions or much precise response, as it iteratively updates it answer with one chunk, but it needs to have multiple calls which is extremly time-consuming! Re-rank ranks the response with the prompt with one chunk, and the response is slightly improved but also takes a lot of time! \n",
    "    \n",
    "<font size =4 color = red > Overall, we can stick on the chain type of stuff, but consider \"refine\" as an option for users if they need more deep analysis over more documents!"
   ]
  },
  {
   "cell_type": "code",
   "execution_count": null,
   "id": "f20760aa",
   "metadata": {},
   "outputs": [],
   "source": []
  }
 ],
 "metadata": {
  "kernelspec": {
   "display_name": "chat",
   "language": "python",
   "name": "chat"
  },
  "language_info": {
   "codemirror_mode": {
    "name": "ipython",
    "version": 3
   },
   "file_extension": ".py",
   "mimetype": "text/x-python",
   "name": "python",
   "nbconvert_exporter": "python",
   "pygments_lexer": "ipython3",
   "version": "3.10.0"
  }
 },
 "nbformat": 4,
 "nbformat_minor": 5
}
