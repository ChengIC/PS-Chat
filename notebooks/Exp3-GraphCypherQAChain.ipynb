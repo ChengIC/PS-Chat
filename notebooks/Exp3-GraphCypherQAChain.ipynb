{
 "cells": [
  {
   "cell_type": "markdown",
   "metadata": {},
   "source": [
    "# Exp 3. This is a notebook using GraphCypherQAChain to communicate with the database"
   ]
  },
  {
   "cell_type": "markdown",
   "metadata": {},
   "source": [
    "Ref: https://github.com/tomasonjo/blogs/blob/master/llm/langchain_neo4j.ipynb"
   ]
  },
  {
   "cell_type": "code",
   "execution_count": 1,
   "metadata": {
    "id": "hTz9REHt-XxO"
   },
   "outputs": [],
   "source": [
    "from langchain.chat_models import ChatOpenAI\n",
    "from langchain.chains import GraphCypherQAChain\n",
    "from langchain.graphs import Neo4jGraph\n",
    "import os\n",
    "from dotenv import load_dotenv\n",
    "\n",
    "load_dotenv()\n",
    "neo4j_url = os.getenv('NEO4J_URL')\n",
    "neo4j_user = os.getenv('NEO4J_USER')\n",
    "neo4j_password = os.getenv('NEO4J_PASSWORD')\n",
    "openai_key = os.getenv('OPENAI_KEY')\n",
    "\n",
    "\n",
    "graph = Neo4jGraph(\n",
    "    url=neo4j_url, \n",
    "    username=neo4j_user, \n",
    "    password=neo4j_password\n",
    ")"
   ]
  },
  {
   "cell_type": "code",
   "execution_count": 2,
   "metadata": {
    "id": "DkEz1NTBFrXu"
   },
   "outputs": [],
   "source": [
    "os.environ['OPENAI_API_KEY'] = openai_key\n",
    "\n",
    "chain = GraphCypherQAChain.from_llm(\n",
    "    ChatOpenAI(temperature=0), graph=graph, verbose=True,\n",
    ")"
   ]
  },
  {
   "cell_type": "code",
   "execution_count": 3,
   "metadata": {},
   "outputs": [
    {
     "name": "stdout",
     "output_type": "stream",
     "text": [
      "\n",
      "\n",
      "\u001b[1m> Entering new GraphCypherQAChain chain...\u001b[0m\n",
      "Generated Cypher:\n",
      "\u001b[32;1m\u001b[1;3mMATCH (n) RETURN n.name\u001b[0m\n",
      "Full Context:\n",
      "\u001b[32;1m\u001b[1;3m[{'n.name': 'Poor_project_execution'}, {'n.name': 'Non-Delivery_of_benefits'}, {'n.name': 'Business_disruption_'}, {'n.name': 'Slowing_digitisation_pace'}, {'n.name': 'Slowed_technological_change'}, {'n.name': 'Executive_sponsorship'}, {'n.name': 'Steering_group'}, {'n.name': 'Regular_progress_updates'}, {'n.name': 'Broad_stakeholder_representation'}, {'n.name': 'Link_with_digital_programme_team'}, {'n.name': 'Appropriate_personnel'}, {'n.name': 'Monitor_volume_of_change_programmes'}, {'n.name': 'C4G_Connected_for_Growth_Change_programme'}, {'n.name': '5S_Smart_Programme'}, {'n.name': 'Net_Revenue_Mgt_programme'}, {'n.name': 'Acquisition_Programme_1'}, {'n.name': 'Acquisition_programme_2'}, {'n.name': 'Disposal_programme_1'}, {'n.name': 'Disposal_programme_2'}, {'n.name': 'Org._transformation_programme_1'}, {'n.name': 'Org._transformation_programme_2'}, {'n.name': 'Key_(2017-8)_programme'}, {'n.name': 'Brexit_Programme'}, {'n.name': 'Systems_integration_programme'}, {'n.name': 'SAP_re_implementation-programme_2'}, {'n.name': 'Data_management_enhancement_programme_1'}, {'n.name': 'Data_management_enhancement_programme_2'}, {'n.name': 'Operating_with_Purpose:'}, {'n.name': 'Digital_Supply_Chain:_'}, {'n.name': 'Agility_for_a_Changing_Market:_'}, {'n.name': 'Partnerships_for_the_future:_'}, {'n.name': 'Reshaping_the_Asset_and_Cost_Base_'}, {'n.name': 'Talent_&_Capabilities:'}, {'n.name': 'Quality_and_Service_theme'}, {'n.name': 'Capacity_and_Capability_theme'}, {'n.name': 'Responsible_and_Sustainable_Living__theme'}, {'n.name': 'Innovation_theme'}, {'n.name': 'Value_theme'}, {'n.name': '1._Innovation'}, {'n.name': '2._Sourcing'}, {'n.name': '3._Logistics'}, {'n.name': '4._Marketing'}, {'n.name': '5._Sales'}, {'n.name': '6._Consumer_Use'}, {'n.name': '7._Consumer_insight_'}, {'n.name': '1._Winning_with_brands_and_innovation'}, {'n.name': '2._Winning_in_the_marketplace'}, {'n.name': '3._Winning_through_continuous_improvement'}, {'n.name': '4._Winning_with_people_'}, {'n.name': '2018_Standards_of_leadership'}]\u001b[0m\n",
      "\n",
      "\u001b[1m> Finished chain.\u001b[0m\n"
     ]
    }
   ],
   "source": [
    "result = chain.run(\"\"\"\n",
    "What are the nodes in databse and Please give a list of their names.\n",
    "\"\"\")"
   ]
  },
  {
   "cell_type": "code",
   "execution_count": 4,
   "metadata": {},
   "outputs": [
    {
     "data": {
      "text/plain": [
       "'The nodes in the database include Poor_project_execution, Non-Delivery_of_benefits, Business_disruption_, Slowing_digitisation_pace, Slowed_technological_change, Executive_sponsorship, Steering_group, Regular_progress_updates, Broad_stakeholder_representation, Link_with_digital_programme_team, Appropriate_personnel, Monitor_volume_of_change_programmes, C4G_Connected_for_Growth_Change_programme, 5S_Smart_Programme, Net_Revenue_Mgt_programme, Acquisition_Programme_1, Acquisition_programme_2, Disposal_programme_1, Disposal_programme_2, Org._transformation_programme_1, Org._transformation_programme_2, Key_(2017-8)_programme, Brexit_Programme, Systems_integration_programme, SAP_re_implementation-programme_2, Data_management_enhancement_programme_1, Data_management_enhancement_programme_2, Operating_with_Purpose, Digital_Supply_Chain, Agility_for_a_Changing_Market, Partnerships_for_the_future, Reshaping_the_Asset_and_Cost_Base, Talent_&_Capabilities, Quality_and_Service_theme, Capacity_and_Capability_theme, Responsible_and_Sustainable_Living__theme, Innovation_theme, Value_theme, 1._Innovation, 2._Sourcing, 3._Logistics, 4._Marketing, 5._Sales, 6._Consumer_Use, 7._Consumer_insight_, 1._Winning_with_brands_and_innovation, 2._Winning_in_the_marketplace, 3._Winning_through_continuous_improvement, 4._Winning_with_people_, and 2018_Standards_of_leadership.'"
      ]
     },
     "execution_count": 4,
     "metadata": {},
     "output_type": "execute_result"
    }
   ],
   "source": [
    "result"
   ]
  },
  {
   "cell_type": "code",
   "execution_count": 5,
   "metadata": {
    "colab": {
     "base_uri": "https://localhost:8080/",
     "height": 258
    },
    "id": "nblHLc6TJnLT",
    "outputId": "5d54fa86-d442-4361-f24e-2ec068de16e2"
   },
   "outputs": [
    {
     "name": "stdout",
     "output_type": "stream",
     "text": [
      "\n",
      "\n",
      "\u001b[1m> Entering new GraphCypherQAChain chain...\u001b[0m\n",
      "Generated Cypher:\n",
      "\u001b[32;1m\u001b[1;3mMATCH (:Q4_triggers)-[]->(n) RETURN COUNT(DISTINCT labels(n))\u001b[0m\n",
      "Full Context:\n",
      "\u001b[32;1m\u001b[1;3m[{'COUNT(DISTINCT labels(n))': 0}]\u001b[0m\n",
      "\n",
      "\u001b[1m> Finished chain.\u001b[0m\n"
     ]
    },
    {
     "data": {
      "text/plain": [
       "'Based on the provided information, there are no distinct labels for Q4_triggers.'"
      ]
     },
     "execution_count": 5,
     "metadata": {},
     "output_type": "execute_result"
    }
   ],
   "source": [
    "chain.run(\"\"\"\n",
    "How many types of Q4_triggers?\n",
    "\"\"\")"
   ]
  },
  {
   "cell_type": "markdown",
   "metadata": {
    "id": "QMHK94FyMYnV"
   },
   "source": [
    "We can observe the generated Cypher statement and the retrieved information from Neo4j used to form the answer. That is as easy a setup as it gets. Let's move on to the next example."
   ]
  },
  {
   "cell_type": "code",
   "execution_count": 6,
   "metadata": {
    "colab": {
     "base_uri": "https://localhost:8080/",
     "height": 222
    },
    "id": "_ia3wgn7JDg3",
    "outputId": "d2fada74-3351-49a1-c2ad-ed4fbc9d2d8b",
    "scrolled": false
   },
   "outputs": [
    {
     "name": "stdout",
     "output_type": "stream",
     "text": [
      "\n",
      "\n",
      "\u001b[1m> Entering new GraphCypherQAChain chain...\u001b[0m\n",
      "Generated Cypher:\n",
      "\u001b[32;1m\u001b[1;3mMATCH (m:Mitigation)\n",
      "RETURN COUNT(DISTINCT m) AS num_types, COLLECT(DISTINCT m.name) AS mitigation_names\u001b[0m\n",
      "Full Context:\n",
      "\u001b[32;1m\u001b[1;3m[{'num_types': 7, 'mitigation_names': ['Executive_sponsorship', 'Steering_group', 'Regular_progress_updates', 'Broad_stakeholder_representation', 'Link_with_digital_programme_team', 'Appropriate_personnel', 'Monitor_volume_of_change_programmes']}]\u001b[0m\n",
      "\n",
      "\u001b[1m> Finished chain.\u001b[0m\n"
     ]
    },
    {
     "data": {
      "text/plain": [
       "'Based on the provided information, there are 7 types of Mitigation and their names are: Executive sponsorship, Steering group, Regular progress updates, Broad stakeholder representation, Link with digital programme team, Appropriate personnel, and Monitor volume of change programmes.'"
      ]
     },
     "execution_count": 6,
     "metadata": {},
     "output_type": "execute_result"
    }
   ],
   "source": [
    "chain.run(\"\"\"\n",
    "How many types of Mitigation and give the list of their names?\n",
    "\"\"\")"
   ]
  },
  {
   "cell_type": "code",
   "execution_count": 7,
   "metadata": {},
   "outputs": [
    {
     "name": "stdout",
     "output_type": "stream",
     "text": [
      "\n",
      "\n",
      "\u001b[1m> Entering new GraphCypherQAChain chain...\u001b[0m\n",
      "Generated Cypher:\n",
      "\u001b[32;1m\u001b[1;3mMATCH (s:Strategy_theme)\n",
      "RETURN COUNT(DISTINCT s) AS Number_of_Strategy_themes, COLLECT(DISTINCT s.name) AS Strategy_theme_names\u001b[0m\n",
      "Full Context:\n",
      "\u001b[32;1m\u001b[1;3m[{'Number_of_Strategy_themes': 8, 'Strategy_theme_names': ['1._Winning_with_brands_and_innovation', '2._Winning_in_the_marketplace', '3._Winning_through_continuous_improvement', '4._Winning_with_people_', '2018_Standards_of_leadership', 'Beauty/PC_strategy', 'Food/Refresh_strategy', 'HomeCare_strategy']}]\u001b[0m\n",
      "\n",
      "\u001b[1m> Finished chain.\u001b[0m\n"
     ]
    },
    {
     "data": {
      "text/plain": [
       "'According to the provided information, there are 8 Strategy themes in total. The names of these themes are: \\n1. Winning with brands and innovation \\n2. Winning in the marketplace \\n3. Winning through continuous improvement \\n4. Winning with people \\n5. 2018 Standards of leadership \\n6. Beauty/PC strategy \\n7. Food/Refresh strategy \\n8. HomeCare strategy.'"
      ]
     },
     "execution_count": 7,
     "metadata": {},
     "output_type": "execute_result"
    }
   ],
   "source": [
    "chain.run(\"\"\"\n",
    "How many types of Strategy_themes and give the list of their names?\n",
    "\"\"\")"
   ]
  },
  {
   "cell_type": "code",
   "execution_count": 8,
   "metadata": {},
   "outputs": [
    {
     "name": "stdout",
     "output_type": "stream",
     "text": [
      "\n",
      "\n",
      "\u001b[1m> Entering new GraphCypherQAChain chain...\u001b[0m\n",
      "Generated Cypher:\n",
      "\u001b[32;1m\u001b[1;3mMATCH (a:Areas_of_support)\n",
      "RETURN COUNT(DISTINCT a), COLLECT(DISTINCT a.name)\u001b[0m\n",
      "Full Context:\n",
      "\u001b[32;1m\u001b[1;3m[{'COUNT(DISTINCT a)': 5, 'COLLECT(DISTINCT a.name)': ['Review_project_portfolio_balance_for_2020_Q1', 'Conduct_project_assurance_readiness_for_Brexit_Programme', 'Identify_best_practice_regulatory_project_as_examplar', 'Cross-project_review_of_plastic_dependencies', 'Rescope_large_project_which_has_failed_to_deliver_in_2020']}]\u001b[0m\n",
      "\n",
      "\u001b[1m> Finished chain.\u001b[0m\n"
     ]
    },
    {
     "data": {
      "text/plain": [
       "'There are 5 types of areas of support. Their names are: Review_project_portfolio_balance_for_2020_Q1, Conduct_project_assurance_readiness_for_Brexit_Programme, Identify_best_practice_regulatory_project_as_examplar, Cross-project_review_of_plastic_dependencies, and Rescope_large_project_which_has_failed_to_deliver_in_2020.'"
      ]
     },
     "execution_count": 8,
     "metadata": {},
     "output_type": "execute_result"
    }
   ],
   "source": [
    "chain.run(\"\"\"\n",
    "How many types of areas of support and give the list of their names?\n",
    "\"\"\")"
   ]
  },
  {
   "cell_type": "code",
   "execution_count": null,
   "metadata": {},
   "outputs": [],
   "source": []
  },
  {
   "cell_type": "code",
   "execution_count": null,
   "metadata": {},
   "outputs": [],
   "source": []
  },
  {
   "cell_type": "code",
   "execution_count": null,
   "metadata": {},
   "outputs": [],
   "source": []
  }
 ],
 "metadata": {
  "colab": {
   "authorship_tag": "ABX9TyOcXBcR86rPwNdXV2pzMJOf",
   "include_colab_link": true,
   "provenance": []
  },
  "kernelspec": {
   "display_name": "chat",
   "language": "python",
   "name": "chat"
  },
  "language_info": {
   "codemirror_mode": {
    "name": "ipython",
    "version": 3
   },
   "file_extension": ".py",
   "mimetype": "text/x-python",
   "name": "python",
   "nbconvert_exporter": "python",
   "pygments_lexer": "ipython3",
   "version": "3.10.0"
  }
 },
 "nbformat": 4,
 "nbformat_minor": 1
}
