{
 "cells": [
  {
   "cell_type": "markdown",
   "id": "2531b891",
   "metadata": {},
   "source": [
    "# Exp 5. This is a notebook using GraphQAChain with Knowledge Triples from the graph to communicate with the database"
   ]
  },
  {
   "cell_type": "markdown",
   "id": "36002e63",
   "metadata": {},
   "source": [
    "Ref: https://python.langchain.com/en/latest/modules/chains/index_examples/graph_qa.html"
   ]
  },
  {
   "cell_type": "code",
   "execution_count": 1,
   "id": "86487d40",
   "metadata": {},
   "outputs": [],
   "source": [
    "from langchain.indexes import GraphIndexCreator\n",
    "from langchain.llms import OpenAI\n",
    "from langchain.document_loaders import TextLoader\n",
    "from dotenv import load_dotenv\n",
    "import os\n",
    "from neo4j import GraphDatabase\n",
    "from langchain.chains import GraphQAChain\n",
    "from langchain.graphs.networkx_graph import KnowledgeTriple\n"
   ]
  },
  {
   "cell_type": "code",
   "execution_count": 2,
   "id": "edf6c84e",
   "metadata": {},
   "outputs": [],
   "source": [
    "load_dotenv()\n",
    "neo4j_url = os.getenv('NEO4J_URL')\n",
    "neo4j_user = os.getenv('NEO4J_USER')\n",
    "neo4j_password = os.getenv('NEO4J_PASSWORD')\n",
    "openai_key = os.getenv('OPENAI_KEY')\n",
    "pinecone_api_key = os.getenv('PINECONE_KEY')\n",
    "\n",
    "os.environ['OPENAI_API_KEY'] = openai_key"
   ]
  },
  {
   "cell_type": "code",
   "execution_count": 3,
   "id": "8c6a504f",
   "metadata": {},
   "outputs": [],
   "source": [
    "index_creator = GraphIndexCreator(llm=OpenAI(temperature=0))"
   ]
  },
  {
   "cell_type": "code",
   "execution_count": 4,
   "id": "3240b8fe",
   "metadata": {},
   "outputs": [
    {
     "data": {
      "text/plain": [
       "[{'start_node_name': 'Review_project_portfolio_balance_for_2020_Q1',\n",
       "  'start_node_label': 'Areas_of_support',\n",
       "  'end_node_name': 'Portfolio_management',\n",
       "  'end_node_label': 'Our_Service_Offerings',\n",
       "  'edge': 'deploy'},\n",
       " {'start_node_name': 'Conduct_project_assurance_readiness_for_Brexit_Programme',\n",
       "  'start_node_label': 'Areas_of_support',\n",
       "  'end_node_name': 'P3M_Assessment',\n",
       "  'end_node_label': 'Our_Service_Offerings',\n",
       "  'edge': 'deploy'},\n",
       " {'start_node_name': 'Identify_best_practice_regulatory_project_as_examplar',\n",
       "  'start_node_label': 'Areas_of_support',\n",
       "  'end_node_name': 'P3M_Assessment',\n",
       "  'end_node_label': 'Our_Service_Offerings',\n",
       "  'edge': 'deploy'}]"
      ]
     },
     "execution_count": 4,
     "metadata": {},
     "output_type": "execute_result"
    }
   ],
   "source": [
    "# Enquiry neo4j graph database\n",
    "def get_pair_nodes (tx):\n",
    "    pairs_of_nodes = []\n",
    "    for record in tx.run(\"MATCH (a)-[r]->(b) RETURN labels(a), a.name, type(r), labels(b), b.name\"):\n",
    "        pair_node = {\n",
    "            \"start_node_name\": record[\"a.name\"],\n",
    "            \"start_node_label\":record[\"labels(a)\"][0],\n",
    "            \"end_node_name\": record[\"b.name\"],\n",
    "            \"end_node_label\":record[\"labels(b)\"][0],\n",
    "            \"edge\": record[\"type(r)\"]\n",
    "        }\n",
    "        pairs_of_nodes.append(pair_node)\n",
    "    return pairs_of_nodes\n",
    "\n",
    "driver = GraphDatabase.driver(neo4j_url, auth=(neo4j_user, neo4j_password))\n",
    "with driver.session() as session:\n",
    "    pairs_of_nodes = session.execute_read(get_pair_nodes)\n",
    "driver.close()\n",
    "\n",
    "pairs_of_nodes[:3]"
   ]
  },
  {
   "cell_type": "code",
   "execution_count": 5,
   "id": "5ee1ba22",
   "metadata": {},
   "outputs": [],
   "source": [
    "# Build text base\n",
    "text = \"\"\n",
    "for p_n in pairs_of_nodes:\n",
    "    text_string = f\"'{p_n['start_node_name']}' {p_n['edge']} '{p_n['end_node_name']}'.\\n\"\n",
    "    text += text_string"
   ]
  },
  {
   "cell_type": "code",
   "execution_count": 6,
   "id": "43a225f4",
   "metadata": {},
   "outputs": [
    {
     "data": {
      "text/plain": [
       "\"'Review_project_portfolio_balance_for_2020_Q1' deploy 'Portfolio_management'.\\n'Conduct_project_assurance_readiness_for_Brexit_Programme' deploy 'P3M_Assessment'.\\n'Identify_best_practice_regulatory_project_as_examplar' deploy 'P3M_Assessment'.\\n'Identify_best_practice_regulatory_project_as_examplar' deploy 'P3M_Support'.\\n'Cross-project_review_of_plastic_dependencies' deploy 'P3M_Optimisation'.\\n'Rescope_large_project_which_has_failed_to_deliver_in_2020' deploy 'Project_Programme_recovery'.\\n'Rescope_large_project_which_has_failed_to_deliver_in_2020' deploy 'P3M_Assessment'.\\n'Poor_project_execution' influences 'Non-Delivery_of_benefits'.\\n'Poor_project_execution' influences 'Business_disruption_'.\\n'Executive_sponsorship' mitigates 'Non-Delivery_of_benefits'.\\n'Steering_group' mitigates 'Slowing_digitisation_pace'.\\n'Regular_progress_updates' mitigates 'Poor_project_execution'.\\n'Broad_stakeholder_representation' mitigates 'Slowing_digitisation_pace'.\\n'Link_with_digital_programme_team' mitigates 'Slowing_digitisation_pace'.\\n'Appropriate_personnel' mitigates 'Slowed_technological_change'.\\n'Monitor_volume_of_change_programmes' mitigates 'Poor_project_execution'.\\n'Business_transformation_portfolio' comprised_of 'Acquisitions'.\\n'Business_transformation_portfolio' comprised_of 'Divestment_'.\\n'Business_transformation_portfolio' comprised_of 'Digital_transformation'.\\n'Acquisitions' comprised_of 'Acquisition_Programme_1'.\\n'Acquisitions' comprised_of 'Acquisition_programme_2'.\\n'Divestment_' comprised_of 'Disposal_programme_1'.\\n'Divestment_' comprised_of 'Disposal_programme_2'.\\n'Organisational_transformation' comprised_of 'Org._transformation_programme_1'.\\n'Organisational_transformation' comprised_of 'Org._transformation_programme_2'.\\n'Organisational_transformation' comprised_of 'Key_(2017-8)_programme'.\\n'Digital_transformation' comprised_of 'Brexit_Programme'.\\n'Digital_transformation' comprised_of 'Systems_integration_programme'.\\n'Digital_transformation' comprised_of 'SAP_re_implementation-programme_2'.\\n'Digital_transformation' comprised_of 'Data_management_enhancement_programme_1'.\\n'Digital_transformation' comprised_of 'Data_management_enhancement_programme_2'.\\n'2._Sourcing' depends_on '1._Innovation'.\\n'3._Logistics' depends_on '2._Sourcing'.\\n'4._Marketing' depends_on '3._Logistics'.\\n'5._Sales' depends_on '4._Marketing'.\\n'6._Consumer_Use' depends_on '5._Sales'.\\n'7._Consumer_insight_' depends_on '6._Consumer_Use'.\\n'1._Winning_with_brands_and_innovation' depends_on 'HomeCare_strategy'.\\n'2._Winning_in_the_marketplace' depends_on '3._Financial_Resources'.\\n'2._Winning_in_the_marketplace' depends_on '4._Intangible_assets'.\\n'4._Winning_with_people_' depends_on '1._Purposeful_people'.\\n'2018_Standards_of_leadership' depends_on '2._Natural_Resources'.\\n'2018_Standards_of_leadership' depends_on '1._Purposeful_people'.\\n'3._Winning_through_continuous_improvement' depends_on '5._Tangible_assets'.\\n'2._Winning_in_the_marketplace' depends_on '6._Suppliers'.\\n'4._Winning_with_people_' depends_on '7._Stakeholders_and_partners'.\\n'1._Consumer_benefits' enabled_by 'Alignment_with_Product_lifecycle'.\\n'2._Top_&_bottom_line_growth' enabled_by 'Faster_product_portfolio_evolution'.\\n'2._Top_&_bottom_line_growth' enabled_by 'Use_of_the_30_digital_platforms'.\\n'3._Improved_health_and_well_being' enabled_by 'Digitising_R&D'.\\n'Alignment_with_Product_lifecycle' enabled_by 'Divestment_'.\\n'Alignment_with_Product_lifecycle' enabled_by 'Acquisitions'.\\n'Faster_product_portfolio_evolution' enabled_by 'Organisational_transformation'.\\n'Digital_transformation' enabled_by 'Digitising_R&D'.\\n'Digital_transformation' enabled_by 'Use_of_the_30_digital_platforms'.\\n'Digital_transformation' enabled_by 'Business_transformation_portfolio'.\\n'1._Innovation' operated_by 'HomeCare_division'.\\n'2._Sourcing' operated_by 'HomeCare_division'.\\n'3._Logistics' operated_by 'HomeCare_division'.\\n'4._Marketing' operated_by 'HomeCare_division'.\\n'5._Sales' operated_by 'HomeCare_division'.\\n'6._Consumer_Use' operated_by 'HomeCare_division'.\\n'7._Consumer_insight_' operated_by 'HomeCare_division'.\\n'3._Winning_through_continuous_improvement' enabled_by '5S_Smart_Programme'.\\n'Net_Revenue_Mgt_programme' comprised_of '5S_Smart_Programme'.\\n'Beauty/PC_division' peer_of 'HomeCare_division'.\\n'Food/Refresh_division' peer_of 'HomeCare_division'.\\n'Organisational_transformation' comprised_of 'Data_management_enhancement_programme_1'.\\n'Organisational_transformation' comprised_of 'Data_management_enhancement_programme_2'.\\n'Review_project_portfolio_balance_for_2020_Q1' responds_to 'Home_Care_as_growth_driver'.\\n'Cross-project_review_of_plastic_dependencies' responds_to '2019_Stretch_plastic_goals'.\\n'Identify_best_practice_regulatory_project_as_examplar' responds_to 'Ongoing_compliance_with_competition_laws'.\\n'Brexit_Programme' comprised_of 'human_capital_management_project'.\\n'Organisational_transformation' comprised_of 'Use_of_the_30_digital_platforms'.\\n'Organisational_transformation' comprised_of 'Digitising_R&D'.\\n'Organisational_transformation' comprised_of 'C4G_Connected_for_Growth_Change_programme'.\\n'Organisational_transformation' comprised_of 'Systems_integration_programme'.\\n'Organisational_transformation' comprised_of 'SAP_re_implementation-programme_2'.\\n'Organisational_transformation' comprised_of 'Net_Revenue_Mgt_programme'.\\n'Acquisitions' comprised_of 'Brexit_Programme'.\\n'Brexit_Programme' comprised_of 'supply_chain_improvement_project'.\\n'Brexit_Programme' comprised_of 'regulatory_compliance project'.\\n'human_capital_management_project' improved_by 'Rescope_large_project_which_has_failed_to_deliver_in_2020'.\\n'Business_transformation_portfolio' comprised_of 'Organisational_transformation'.\\n'HomeCare_division' holds 'Business_transformation_portfolio'.\\n'Conduct_project_assurance_readiness_for_Brexit_Programme' responds_to 'Election_results->Brexit_Jan_2020'.\\n'Rescope_large_project_which_has_failed_to_deliver_in_2020' responds_to 'Margin_pressures'.\\n'regulatory_compliance project' improved_by 'Identify_best_practice_regulatory_project_as_examplar'.\\n'Brexit_Programme' improved_by 'Conduct_project_assurance_readiness_for_Brexit_Programme'.\\n'Business_transformation_portfolio' improved_by 'Review_project_portfolio_balance_for_2020_Q1'.\\n'Acquisition_Programme_1' improved_by 'Cross-project_review_of_plastic_dependencies'.\\n'Executive_sponsorship' delivered_by 'Review_project_portfolio_balance_for_2020_Q1'.\\n'Steering_group' delivered_by 'Review_project_portfolio_balance_for_2020_Q1'.\\n'Regular_progress_updates' delivered_by 'Review_project_portfolio_balance_for_2020_Q1'.\\n'Broad_stakeholder_representation' delivered_by 'Conduct_project_assurance_readiness_for_Brexit_Programme'.\\n'Appropriate_personnel' delivered_by 'Identify_best_practice_regulatory_project_as_examplar'.\\n'Regular_progress_updates' delivered_by 'Cross-project_review_of_plastic_dependencies'.\\n'Link_with_digital_programme_team' delivered_by 'Review_project_portfolio_balance_for_2020_Q1'.\\n'Appropriate_personnel' delivered_by 'Conduct_project_assurance_readiness_for_Brexit_Programme'.\\n'Monitor_volume_of_change_programmes' delivered_by 'Review_project_portfolio_balance_for_2020_Q1'.\\n'Monitor_volume_of_change_programmes' delivered_by 'Rescope_large_project_which_has_failed_to_deliver_in_2020'.\\n'Cross-project_review_of_plastic_dependencies' enables 'Digital_Supply_Chain:_'.\\n'Cross-project_review_of_plastic_dependencies' enables 'Talent_&_Capabilities:'.\\n'Review_project_portfolio_balance_for_2020_Q1' enables 'Agility_for_a_Changing_Market:_'.\\n'Conduct_project_assurance_readiness_for_Brexit_Programme' enables 'Agility_for_a_Changing_Market:_'.\\n'Identify_best_practice_regulatory_project_as_examplar' enables 'Operating_with_Purpose:'.\\n'Cross-project_review_of_plastic_dependencies' enables 'Operating_with_Purpose:'.\\n'Cross-project_review_of_plastic_dependencies' enables 'Partnerships_for_the_future:_'.\\n'Cross-project_review_of_plastic_dependencies' enables 'Reshaping_the_Asset_and_Cost_Base_'.\\n'Rescope_large_project_which_has_failed_to_deliver_in_2020' enables 'Reshaping_the_Asset_and_Cost_Base_'.\\n'Rescope_large_project_which_has_failed_to_deliver_in_2020' enables 'Partnerships_for_the_future:_'.\\n'Digital_Supply_Chain:_' enables 'Innovation_theme'.\\n'Operating_with_Purpose:' enables 'Value_theme'.\\n'Agility_for_a_Changing_Market:_' enables 'Innovation_theme'.\\n'Partnerships_for_the_future:_' enables 'Quality_and_Service_theme'.\\n'Reshaping_the_Asset_and_Cost_Base_' enables 'Value_theme'.\\n'Reshaping_the_Asset_and_Cost_Base_' enables 'Capacity_and_Capability_theme'.\\n'Talent_&_Capabilities:' enables 'Responsible_and_Sustainable_Living__theme'.\\n'Alignment_with_Product_lifecycle' enabled_by 'Review_project_portfolio_balance_for_2020_Q1'.\\n'Faster_product_portfolio_evolution' enabled_by 'Review_project_portfolio_balance_for_2020_Q1'.\\n'Use_of_the_30_digital_platforms' enabled_by 'Review_project_portfolio_balance_for_2020_Q1'.\\n'Use_of_the_30_digital_platforms' enabled_by 'Cross-project_review_of_plastic_dependencies'.\\n'Faster_product_portfolio_evolution' enabled_by 'Identify_best_practice_regulatory_project_as_examplar'.\\n'Use_of_the_30_digital_platforms' enabled_by 'Identify_best_practice_regulatory_project_as_examplar'.\\n'1._Purposeful_people' enabled_by 'Rescope_large_project_which_has_failed_to_deliver_in_2020'.\\n'2._Natural_Resources' enabled_by 'Cross-project_review_of_plastic_dependencies'.\\n'3._Financial_Resources' enabled_by 'Rescope_large_project_which_has_failed_to_deliver_in_2020'.\\n'4._Intangible_assets' enabled_by 'Conduct_project_assurance_readiness_for_Brexit_Programme'.\\n'5._Tangible_assets' enabled_by 'Identify_best_practice_regulatory_project_as_examplar'.\\n'5._Tangible_assets' enabled_by 'Rescope_large_project_which_has_failed_to_deliver_in_2020'.\\n'6._Suppliers' enabled_by 'Conduct_project_assurance_readiness_for_Brexit_Programme'.\\n'6._Suppliers' enabled_by 'Rescope_large_project_which_has_failed_to_deliver_in_2020'.\\n'7._Stakeholders_and_partners' enabled_by 'Identify_best_practice_regulatory_project_as_examplar'.\\n'7._Stakeholders_and_partners' enabled_by 'Conduct_project_assurance_readiness_for_Brexit_Programme'.\\n\""
      ]
     },
     "execution_count": 6,
     "metadata": {},
     "output_type": "execute_result"
    }
   ],
   "source": [
    "text\n"
   ]
  },
  {
   "cell_type": "code",
   "execution_count": 7,
   "id": "6bd92d60",
   "metadata": {},
   "outputs": [],
   "source": [
    "graph = index_creator.from_text(text)"
   ]
  },
  {
   "cell_type": "code",
   "execution_count": 8,
   "id": "7600332a",
   "metadata": {},
   "outputs": [
    {
     "name": "stdout",
     "output_type": "stream",
     "text": [
      "[('Review_project_portfolio_balance_for_2020_Q1', 'Portfolio_management', 'deploys'), ('Conduct_project_assurance_readiness_for_Brexit_Programme', 'P3M_Assessment', 'deploys'), ('Identify_best_practice_regulatory_project_as_examplar', 'P3M_Assessment', 'deploys'), ('Identify_best_practice_regulatory_project_as_examplar', 'P3M_Support', 'deploys'), ('Cross-project_review_of_plastic_dependencies', 'P3M_Optimisation', 'deploys'), ('Rescope_large_project_which_has_failed_to_deliver_in_2020', 'Project_Programme_recovery', 'deploys'), ('Rescope_large_project_which_has_failed_to_deliver_in_2020', 'P3M_Assessment', 'deploys'), ('Poor_project_execution', 'Non-Delivery_of_benefits', 'influences'), ('Poor_project_execution', 'Business', 'influences')] 9\n"
     ]
    }
   ],
   "source": [
    "print(graph.get_triples(),len(graph.get_triples()))"
   ]
  },
  {
   "cell_type": "markdown",
   "id": "591dc6ee",
   "metadata": {},
   "source": [
    "<font size=4 color=\"red\">The triples function with index creator from text ONLY output partial information resulting in misleading and missing answer"
   ]
  },
  {
   "cell_type": "code",
   "execution_count": 9,
   "id": "96883f56",
   "metadata": {},
   "outputs": [],
   "source": [
    "chain = GraphQAChain.from_llm(OpenAI(openai_api_key=openai_key, temperature=0), graph=graph, verbose=True)\n"
   ]
  },
  {
   "cell_type": "code",
   "execution_count": 10,
   "id": "67ebb502",
   "metadata": {},
   "outputs": [
    {
     "name": "stdout",
     "output_type": "stream",
     "text": [
      "\n",
      "\n",
      "\u001b[1m> Entering new GraphQAChain chain...\u001b[0m\n",
      "Entities Extracted:\n",
      "\u001b[32;1m\u001b[1;3m Unilever\u001b[0m\n",
      "Full Context:\n",
      "\u001b[32;1m\u001b[1;3m\u001b[0m\n"
     ]
    },
    {
     "name": "stderr",
     "output_type": "stream",
     "text": [
      "Retrying langchain.llms.openai.completion_with_retry.<locals>._completion_with_retry in 4.0 seconds as it raised RateLimitError: The server had an error while processing your request. Sorry about that!.\n"
     ]
    },
    {
     "name": "stdout",
     "output_type": "stream",
     "text": [
      "\n",
      "\u001b[1m> Finished chain.\u001b[0m\n"
     ]
    },
    {
     "data": {
      "text/plain": [
       "'\\n\\nUnilever creates values related to sustainability, health and well-being, and environmental protection.'"
      ]
     },
     "execution_count": 10,
     "metadata": {},
     "output_type": "execute_result"
    }
   ],
   "source": [
    "chain.run(\"What types of values that Unilever_create?\")\n"
   ]
  },
  {
   "cell_type": "code",
   "execution_count": 11,
   "id": "eb4ad3e0",
   "metadata": {},
   "outputs": [
    {
     "name": "stdout",
     "output_type": "stream",
     "text": [
      "\n",
      "\n",
      "\u001b[1m> Entering new GraphQAChain chain...\u001b[0m\n",
      "Entities Extracted:\n",
      "\u001b[32;1m\u001b[1;3m NONE\u001b[0m\n",
      "Full Context:\n",
      "\u001b[32;1m\u001b[1;3m\u001b[0m\n",
      "\n",
      "\u001b[1m> Finished chain.\u001b[0m\n"
     ]
    },
    {
     "data": {
      "text/plain": [
       "\" I don't know.\""
      ]
     },
     "execution_count": 11,
     "metadata": {},
     "output_type": "execute_result"
    }
   ],
   "source": [
    "chain.run(\"What are the project risks\")"
   ]
  },
  {
   "cell_type": "markdown",
   "id": "2ddec88b",
   "metadata": {},
   "source": [
    "# Add triples rather than simply from text"
   ]
  },
  {
   "cell_type": "markdown",
   "id": "7e23fd80",
   "metadata": {},
   "source": [
    "Ref: https://apex974.com/articles/explore-langchain-support-for-knowledge-graph"
   ]
  },
  {
   "cell_type": "code",
   "execution_count": 12,
   "id": "44ffadc3",
   "metadata": {},
   "outputs": [],
   "source": [
    "for p_n in pairs_of_nodes:\n",
    "    graph.add_triple(KnowledgeTriple(p_n['start_node_name'], p_n['end_node_name'], p_n['edge']))"
   ]
  },
  {
   "cell_type": "code",
   "execution_count": 13,
   "id": "1d225aa7",
   "metadata": {},
   "outputs": [
    {
     "name": "stdout",
     "output_type": "stream",
     "text": [
      "\n",
      "\n",
      "\u001b[1m> Entering new GraphQAChain chain...\u001b[0m\n",
      "Entities Extracted:\n",
      "\u001b[32;1m\u001b[1;3m Unilever\u001b[0m\n",
      "Full Context:\n",
      "\u001b[32;1m\u001b[1;3m\u001b[0m\n",
      "\n",
      "\u001b[1m> Finished chain.\u001b[0m\n"
     ]
    },
    {
     "data": {
      "text/plain": [
       "'\\n\\nUnilever creates values related to sustainability, health and well-being, and environmental protection.'"
      ]
     },
     "execution_count": 13,
     "metadata": {},
     "output_type": "execute_result"
    }
   ],
   "source": [
    "chain = GraphQAChain.from_llm(OpenAI(temperature=0), graph=graph, verbose=True)\n",
    "chain.run(\"What types of values that Unilever_create?\")\n"
   ]
  },
  {
   "cell_type": "code",
   "execution_count": 14,
   "id": "f46dbd5c",
   "metadata": {},
   "outputs": [
    {
     "name": "stdout",
     "output_type": "stream",
     "text": [
      "\n",
      "\n",
      "\u001b[1m> Entering new GraphQAChain chain...\u001b[0m\n",
      "Entities Extracted:\n",
      "\u001b[32;1m\u001b[1;3m NONE\u001b[0m\n",
      "Full Context:\n",
      "\u001b[32;1m\u001b[1;3m\u001b[0m\n",
      "\n",
      "\u001b[1m> Finished chain.\u001b[0m\n"
     ]
    },
    {
     "data": {
      "text/plain": [
       "'\\n\\nOperating with purpose has many advantages, including increased motivation, improved focus, and a greater sense of meaning and fulfillment. It can also help to create a more positive work environment, as employees are more likely to be engaged and productive when they feel their work has purpose. Additionally, operating with purpose can help to create a more successful business, as employees are more likely to be productive and creative when they are working towards a meaningful goal.'"
      ]
     },
     "execution_count": 14,
     "metadata": {},
     "output_type": "execute_result"
    }
   ],
   "source": [
    "chain.run(\"What are the advantages of Operating with Purpose\")"
   ]
  },
  {
   "cell_type": "code",
   "execution_count": 12,
   "id": "927e6a02",
   "metadata": {},
   "outputs": [],
   "source": [
    "graph.write_to_gml(\"ps-graph.gml\")\n"
   ]
  },
  {
   "cell_type": "code",
   "execution_count": null,
   "id": "ab5d130f",
   "metadata": {},
   "outputs": [],
   "source": []
  },
  {
   "cell_type": "code",
   "execution_count": null,
   "id": "cc83691f",
   "metadata": {},
   "outputs": [],
   "source": []
  }
 ],
 "metadata": {
  "kernelspec": {
   "display_name": "chat",
   "language": "python",
   "name": "chat"
  },
  "language_info": {
   "codemirror_mode": {
    "name": "ipython",
    "version": 3
   },
   "file_extension": ".py",
   "mimetype": "text/x-python",
   "name": "python",
   "nbconvert_exporter": "python",
   "pygments_lexer": "ipython3",
   "version": "3.10.0"
  }
 },
 "nbformat": 4,
 "nbformat_minor": 5
}
