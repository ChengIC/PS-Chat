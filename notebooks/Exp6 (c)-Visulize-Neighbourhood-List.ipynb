{
 "cells": [
  {
   "cell_type": "code",
   "execution_count": 1,
   "id": "5c36ea48",
   "metadata": {},
   "outputs": [
    {
     "name": "stderr",
     "output_type": "stream",
     "text": [
      "/home/rc/.local/lib/python3.10/site-packages/pinecone/index.py:4: TqdmExperimentalWarning: Using `tqdm.autonotebook.tqdm` in notebook mode. Use `tqdm.tqdm` instead to force console mode (e.g. in jupyter console)\n",
      "  from tqdm.autonotebook import tqdm\n"
     ]
    }
   ],
   "source": [
    "import json\n",
    "import random\n",
    "import os \n",
    "from dotenv import load_dotenv\n",
    "import pinecone\n",
    "from langchain.embeddings.openai import OpenAIEmbeddings\n",
    "from langchain.vectorstores import Pinecone\n",
    "import json \n",
    "from langchain.embeddings.openai import OpenAIEmbeddings\n",
    "\n",
    "\n",
    "load_dotenv()\n",
    "openai_key = os.getenv('OPENAI_KEY')\n",
    "os.environ['OPENAI_API_KEY'] = openai_key\n",
    "embeddings = OpenAIEmbeddings()\n",
    "pinecone_api_key = os.getenv('PINECONE_KEY')\n",
    "pinecone_env_name = os.getenv('PINECONE_ENV')\n",
    "pinecone_index_name = os.getenv('PINECONE_INDEX')"
   ]
  },
  {
   "cell_type": "markdown",
   "id": "d8b990f2",
   "metadata": {},
   "source": [
    "# Load embeddings of PDF and graphs"
   ]
  },
  {
   "cell_type": "code",
   "execution_count": 2,
   "id": "1facc796",
   "metadata": {},
   "outputs": [],
   "source": [
    "with open('pdf_embedding.json', 'r') as f:\n",
    "    # Use json.load to load the data from the file.\n",
    "    pdf_embedding = json.load(f)"
   ]
  },
  {
   "cell_type": "code",
   "execution_count": 3,
   "id": "0cff1f06",
   "metadata": {},
   "outputs": [],
   "source": [
    "with open('graph_embedding.json', 'r') as f:\n",
    "    # Use json.load to load the data from the file.\n",
    "    graph_embedding = json.load(f)"
   ]
  },
  {
   "cell_type": "code",
   "execution_count": 4,
   "id": "6f99dc4a",
   "metadata": {},
   "outputs": [
    {
     "data": {
      "text/plain": [
       "dict_keys(['text', 'vectors', 'categories'])"
      ]
     },
     "execution_count": 4,
     "metadata": {},
     "output_type": "execute_result"
    }
   ],
   "source": [
    "pdf_embedding.keys()"
   ]
  },
  {
   "cell_type": "code",
   "execution_count": 5,
   "id": "0ddb0113",
   "metadata": {},
   "outputs": [
    {
     "data": {
      "text/plain": [
       "(dict_keys(['text', 'vectors', 'categories']),\n",
       " dict_keys(['text', 'vectors', 'categories']))"
      ]
     },
     "execution_count": 5,
     "metadata": {},
     "output_type": "execute_result"
    }
   ],
   "source": [
    "pdf_embedding.keys(), graph_embedding.keys()"
   ]
  },
  {
   "cell_type": "markdown",
   "id": "f3d4a5d8",
   "metadata": {},
   "source": [
    "# Choose Examples"
   ]
  },
  {
   "cell_type": "code",
   "execution_count": 6,
   "id": "31a3ff28",
   "metadata": {},
   "outputs": [
    {
     "name": "stdout",
     "output_type": "stream",
     "text": [
      "The test chunk of PDF is the 355 of embedding vectors and its content is: \n",
      " Nationality Dutch Age 53, Male Appointed to ULE January 2016 Joined Unilever 1990 Previous Unilever posts include: Unilever East Africa and Emerging Markets (EVP); Chief Procurement Officer; Supply Chain, Spreads, Dressings and Olive Oil Europe (VP); Ice Cream Brazil (Managing Director); Ice Cream Brazil (VP); Corporate Strategy Group; Birds Eye Wall’s, Unilever UK (Operations Manager). Current external appointments: A. P. Møller Mærsk (Supervisory Board member).\n",
      "\n",
      "Nationality Dutch Age 50, Female Appointed to ULE January 2018 Joined Unilever 2018 Previous posts include: Royal Ahold Delhaize (CEIO & EC member); Royal Ahold (CCO & EC member); P&G (VP & GM). Previous Unilever posts include: Europe (President). Current external appointments: Bayer AG (Supervisory Board member); Food Drink Europe (Board member); Leading Executives Advancing Diversity (LEAD) (Advisory Board member); Pepsi/ Lipton JV (Board member).\n"
     ]
    }
   ],
   "source": [
    "# Pick up random chunk\n",
    "select_idx = random.randint(0, len(pdf_embedding[\"text\"]))\n",
    "test_chunk = pdf_embedding[\"text\"][select_idx][0]\n",
    "print (f\"The test chunk of PDF is the {select_idx} of embedding vectors and its content is: \\n {test_chunk}\")"
   ]
  },
  {
   "cell_type": "markdown",
   "id": "f5348a1c",
   "metadata": {},
   "source": [
    "# Get the TopK neighbourhod list"
   ]
  },
  {
   "cell_type": "markdown",
   "id": "bc3be45c",
   "metadata": {},
   "source": [
    "# Option 1. Use Pinecone Vectorstore to perform similarity search"
   ]
  },
  {
   "cell_type": "markdown",
   "id": "70e290be",
   "metadata": {},
   "source": [
    "<font size=4 color=green> This option is suitable for delopyment, but not suitable for research as it needs to upload the vector database first and then use their own API."
   ]
  },
  {
   "cell_type": "code",
   "execution_count": 7,
   "id": "ccbd730f",
   "metadata": {},
   "outputs": [],
   "source": [
    "pinecone.init(api_key=pinecone_api_key,environment=pinecone_env_name)\n",
    "index = pinecone.Index(pinecone_index_name)"
   ]
  },
  {
   "cell_type": "code",
   "execution_count": 8,
   "id": "a2959fb1",
   "metadata": {},
   "outputs": [],
   "source": [
    "vectorstore = Pinecone(index,embeddings.embed_query, \"text\", namespace=\"chatbot-testing\")"
   ]
  },
  {
   "cell_type": "code",
   "execution_count": 9,
   "id": "b61c85fd",
   "metadata": {},
   "outputs": [
    {
     "data": {
      "text/plain": [
       "[Document(page_content='Nationality Dutch Age 53, Male Appointed to ULE January 2016 Joined Unilever 1990 Previous Unilever posts include: Unilever East Africa and Emerging Markets (EVP); Chief Procurement Officer; Supply Chain, Spreads, Dressings and Olive Oil Europe (VP); Ice Cream Brazil (Managing Director); Ice Cream Brazil (VP); Corporate Strategy Group; Birds Eye Wall’s, Unilever UK (Operations Manager). Current external appointments: A. P. Møller Mærsk (Supervisory Board member).\\n\\nNationality Dutch Age 50, Female Appointed to ULE January 2018 Joined Unilever 2018 Previous posts include: Royal Ahold Delhaize (CEIO & EC member); Royal Ahold (CCO & EC member); P&G (VP & GM). Previous Unilever posts include: Europe (President). Current external appointments: Bayer AG (Supervisory Board member); Food Drink Europe (Board member); Leading Executives Advancing Diversity (LEAD) (Advisory Board member); Pepsi/ Lipton JV (Board member).', metadata={'source': 'docs/unilever-annual-report-and-accounts-2019.pdf'}),\n",
       " Document(page_content='Nationality Dutch Age 50, Male Appointed to ULE November 2011 Joined Unilever 1993 Previous Unilever posts include: President, North America and Global Head of Customer Development; Brazil (EVP); Unilever Foods South Africa (CEO); Unilever Bestfoods Asia (SVP and Board member). Current external appointments: Enactus (Chairman).\\n\\nNationality Dutch Age 49, Female Appointed to ULE January 2018 Joined Unilever 2018 Previous posts include: Royal Ahold Delhaize (CEIO & EC); Royal Ahold (CCO); P&G (VP & GM). Current external appointments: Bayer AG (Supervisory Board member), Leading Executives Advancing Diversity (LEAD) (advisory board member).', metadata={'source': 'docs/Unilever-Annual-Report-and-Accounts-2018.pdf'}),\n",
       " Document(page_content='Nationality Dutch Age 52, Male Appointed to ULE January 2016 Joined Unilever 1990 Previous Unilever posts include: Unilever East Africa and Emerging Markets (EVP); Chief Procurement Officer; Supply Chain, Spreads, Dressings and Olive Oil Europe (VP); Ice Cream Brazil (Managing Director); Ice Cream Brazil (VP); Corporate Strategy Group; Birds Eye Wall’s, Unilever UK (Operations Manager). Current external appointments: PostNL (Supervisory Board member).\\n\\nNationality British Age 54, Male Appointed to ULE January 2013 (will retire in April 2019) Joined Unilever 1986 Previous Unilever posts include: Unilever Research & Development (SVP); Unilever Canada Inc. (Chairman); Foods America (SVP Marketing Operations); Global Dressings (VP R&D); Margarine and Spreads (Director of Product Development). Current external appointments: Ingleby Farms and Forests (NED).\\n\\nLEENA NAIR Chief Human Resources Officer\\n\\nNITIN PARANJPE President, Foods and Refreshment', metadata={'source': 'docs/Unilever-Annual-Report-and-Accounts-2018.pdf'}),\n",
       " Document(page_content='Nationality Dutch Age 55, Male Appointed to ULE May 2019 Joined Unilever 1988 Previous Unilever posts include: Unilever South East Asia & Australasia (President) and Chief Digital Transformation & Growth Officer; EVP Corporate Transformation; Unilever Benelux (Chair and EVP); Unilever Ice Cream (Global Head & EVP); various Brand and Channel Management roles.\\n\\n50\\n\\nUnilever Annual Report and Accounts 2019\\n\\nGovernance Report\\n\\nNV special ordinary shares\\n\\nListings\\n\\nOur shares', metadata={'source': 'docs/unilever-annual-report-and-accounts-2019.pdf'}),\n",
       " Document(page_content=\"Nationality Indian Age 59, Male Appointed to ULE May 2019 Joined Unilever 1992 Previous Unilever posts include: Unilever North Africa and Middle East (Chair and Chief Executive Officer); Unilever Philippines Inc. (Chair and Chief Executive Officer); Unilever Bangladesh Limited (Chair and Managing Director). Current external appointments: Board of Indian School of Business (Director); Federation of Indian Chambers of Commerce and Industry (Vice-President); Breach Candy Hospital Trust (Member); South Asia Advisory Board of Harvard Business School (Member); Xynteo's 'India 2022' (Chair); Advisory Network to the High Level Panel for a Sustainable Ocean Economy (Co-Chair).\", metadata={'source': 'docs/unilever-annual-report-and-accounts-2019.pdf'})]"
      ]
     },
     "execution_count": 9,
     "metadata": {},
     "output_type": "execute_result"
    }
   ],
   "source": [
    "neighbouhood_docs = vectorstore.similarity_search(test_chunk, k=5)\n",
    "neighbouhood_docs"
   ]
  },
  {
   "cell_type": "markdown",
   "id": "5a7fb12a",
   "metadata": {},
   "source": [
    "# Option 2. Use KNN nearest neighbour search"
   ]
  },
  {
   "cell_type": "markdown",
   "id": "39c45b02",
   "metadata": {},
   "source": [
    "<font size=4 color=green> This option is suitable for research at development stage, but not suitable for delopyment as it needs to align the local data structure"
   ]
  },
  {
   "cell_type": "code",
   "execution_count": 10,
   "id": "d0db9e09",
   "metadata": {},
   "outputs": [],
   "source": [
    "import numpy as np\n",
    "import heapq\n",
    "\n",
    "def cosine_similarity(a, b):\n",
    "    \"\"\"Compute the cosine similarity between vector a and vector b\"\"\"\n",
    "    dot_product = np.dot(a, b)\n",
    "    norm_a = np.linalg.norm(a)\n",
    "    norm_b = np.linalg.norm(b)\n",
    "    return dot_product / (norm_a * norm_b)\n",
    "\n",
    "def find_most_similar_vectors(input_vector, vector_list, top_k):\n",
    "    \"\"\"Find the topK most similar vectors to the input_vector in the vector_list\"\"\"\n",
    "    similarity_scores = []\n",
    "\n",
    "    for i, vector in enumerate(vector_list):\n",
    "        similarity_score = cosine_similarity(input_vector, vector[0])\n",
    "        similarity_scores.append((similarity_score, i))\n",
    "\n",
    "    # Get the topK vectors\n",
    "    top_k_vectors = heapq.nlargest(top_k, similarity_scores)\n",
    "\n",
    "    # Indices of the topK vectors\n",
    "    top_k_indices = [item[1] for item in top_k_vectors]\n",
    "\n",
    "    return top_k_indices"
   ]
  },
  {
   "cell_type": "code",
   "execution_count": 11,
   "id": "a1b289be",
   "metadata": {},
   "outputs": [
    {
     "data": {
      "text/plain": [
       "[['Nationality Dutch Age 53, Male Appointed to ULE January 2016 Joined Unilever 1990 Previous Unilever posts include: Unilever East Africa and Emerging Markets (EVP); Chief Procurement Officer; Supply Chain, Spreads, Dressings and Olive Oil Europe (VP); Ice Cream Brazil (Managing Director); Ice Cream Brazil (VP); Corporate Strategy Group; Birds Eye Wall’s, Unilever UK (Operations Manager). Current external appointments: A. P. Møller Mærsk (Supervisory Board member).\\n\\nNationality Dutch Age 50, Female Appointed to ULE January 2018 Joined Unilever 2018 Previous posts include: Royal Ahold Delhaize (CEIO & EC member); Royal Ahold (CCO & EC member); P&G (VP & GM). Previous Unilever posts include: Europe (President). Current external appointments: Bayer AG (Supervisory Board member); Food Drink Europe (Board member); Leading Executives Advancing Diversity (LEAD) (Advisory Board member); Pepsi/ Lipton JV (Board member).'],\n",
       " ['Nationality Dutch Age 52, Male Appointed to ULE January 2016 Joined Unilever 1990 Previous Unilever posts include: Unilever East Africa and Emerging Markets (EVP); Chief Procurement Officer; Supply Chain, Spreads, Dressings and Olive Oil Europe (VP); Ice Cream Brazil (Managing Director); Ice Cream Brazil (VP); Corporate Strategy Group; Birds Eye Wall’s, Unilever UK (Operations Manager). Current external appointments: PostNL (Supervisory Board member).\\n\\nNationality British Age 54, Male Appointed to ULE January 2013 (will retire in April 2019) Joined Unilever 1986 Previous Unilever posts include: Unilever Research & Development (SVP); Unilever Canada Inc. (Chairman); Foods America (SVP Marketing Operations); Global Dressings (VP R&D); Margarine and Spreads (Director of Product Development). Current external appointments: Ingleby Farms and Forests (NED).\\n\\nLEENA NAIR Chief Human Resources Officer\\n\\nNITIN PARANJPE President, Foods and Refreshment'],\n",
       " ['Nationality Dutch Age 55, Male Appointed to ULE May 2019 Joined Unilever 1988 Previous Unilever posts include: Unilever South East Asia & Australasia (President) and Chief Digital Transformation & Growth Officer; EVP Corporate Transformation; Unilever Benelux (Chair and EVP); Unilever Ice Cream (Global Head & EVP); various Brand and Channel Management roles.\\n\\n50\\n\\nUnilever Annual Report and Accounts 2019\\n\\nGovernance Report\\n\\nNV special ordinary shares\\n\\nListings\\n\\nOur shares'],\n",
       " [\"Nationality Indian Age 59, Male Appointed to ULE May 2019 Joined Unilever 1992 Previous Unilever posts include: Unilever North Africa and Middle East (Chair and Chief Executive Officer); Unilever Philippines Inc. (Chair and Chief Executive Officer); Unilever Bangladesh Limited (Chair and Managing Director). Current external appointments: Board of Indian School of Business (Director); Federation of Indian Chambers of Commerce and Industry (Vice-President); Breach Candy Hospital Trust (Member); South Asia Advisory Board of Harvard Business School (Member); Xynteo's 'India 2022' (Chair); Advisory Network to the High Level Panel for a Sustainable Ocean Economy (Co-Chair).\"],\n",
       " ['Nationality Indian Age 50, Female Appointed to ULE March 2016 Joined Unilever 1992 Previous Unilever posts include: HR Leadership and Organisational Development and Global Head of Diversity (SVP); Hindustan Unilever Limited (Executive Director HR); Hindustan Lever (various roles). Current external appointments: BT Plc (NED)\\n\\nNationality Indian Age 56, Male Appointed to ULE October 2013 Joined Unilever 1987 Previous Unilever posts include: Foods and Refreshment (President) Home Care (President); Unilever South Asia (EVP) and Hindustan Unilever Limited (CEO); Home and Personal Care India (EVP); Home Care India (VP); senior positions in Laundry and Household Care.\\n\\nPeter Ter Kulve President, Home Care\\n\\nRichard Slater Chief R&D Officer\\n\\nRitva Sotamaa Chief Legal Officer & Group Secretary']]"
      ]
     },
     "execution_count": 11,
     "metadata": {},
     "output_type": "execute_result"
    }
   ],
   "source": [
    "input_vector = pdf_embedding[\"vectors\"][select_idx][0]\n",
    "vector_list = pdf_embedding[\"vectors\"]\n",
    "top_k_indices = find_most_similar_vectors(input_vector, vector_list, top_k=5)\n",
    "similar_chunks = [pdf_embedding[\"text\"][idx] for idx in top_k_indices]\n",
    "similar_chunks"
   ]
  },
  {
   "cell_type": "markdown",
   "id": "e5ae85af",
   "metadata": {},
   "source": [
    "# <font color =red>As we can see, the pinecone use KNN nearest neigoubour search to find similar documents as the results are exactly same. The metric is depened on the setting of pinecone database."
   ]
  },
  {
   "cell_type": "markdown",
   "id": "3b5eab08",
   "metadata": {},
   "source": [
    "# Similar for Graph Nodes and Edges"
   ]
  },
  {
   "cell_type": "code",
   "execution_count": 14,
   "id": "bf6a67c6",
   "metadata": {},
   "outputs": [
    {
     "name": "stdout",
     "output_type": "stream",
     "text": [
      "The test chunk of PDF is the 39 of embedding vectors and its content is: \n",
      " Acquisition_Programme_1\n"
     ]
    }
   ],
   "source": [
    "select_idx = random.randint(0, len(graph_embedding[\"text\"]))\n",
    "test_node = graph_embedding[\"text\"][select_idx]\n",
    "print (f\"The test chunk of PDF is the {select_idx} of embedding vectors and its content is: \\n {test_node}\")"
   ]
  },
  {
   "cell_type": "code",
   "execution_count": 16,
   "id": "66816ccd",
   "metadata": {},
   "outputs": [
    {
     "data": {
      "text/plain": [
       "['Acquisition_Programme_1',\n",
       " 'Acquisition_programme_2',\n",
       " 'Disposal_programme_1',\n",
       " 'Data_management_enhancement_programme_1',\n",
       " 'Org._transformation_programme_1']"
      ]
     },
     "execution_count": 16,
     "metadata": {},
     "output_type": "execute_result"
    }
   ],
   "source": [
    "input_vector = graph_embedding[\"vectors\"][select_idx][0]\n",
    "vector_list = graph_embedding[\"vectors\"]\n",
    "top_k_indices = find_most_similar_vectors(input_vector, vector_list, top_k=5)\n",
    "similar_nodes = [graph_embedding[\"text\"][idx] for idx in top_k_indices]\n",
    "similar_nodes"
   ]
  },
  {
   "cell_type": "code",
   "execution_count": null,
   "id": "9109b0bf",
   "metadata": {},
   "outputs": [],
   "source": []
  },
  {
   "cell_type": "code",
   "execution_count": null,
   "id": "5dd6690f",
   "metadata": {},
   "outputs": [],
   "source": []
  },
  {
   "cell_type": "code",
   "execution_count": null,
   "id": "954b249d",
   "metadata": {},
   "outputs": [],
   "source": []
  }
 ],
 "metadata": {
  "kernelspec": {
   "display_name": "chat",
   "language": "python",
   "name": "chat"
  },
  "language_info": {
   "codemirror_mode": {
    "name": "ipython",
    "version": 3
   },
   "file_extension": ".py",
   "mimetype": "text/x-python",
   "name": "python",
   "nbconvert_exporter": "python",
   "pygments_lexer": "ipython3",
   "version": "3.10.6"
  }
 },
 "nbformat": 4,
 "nbformat_minor": 5
}
