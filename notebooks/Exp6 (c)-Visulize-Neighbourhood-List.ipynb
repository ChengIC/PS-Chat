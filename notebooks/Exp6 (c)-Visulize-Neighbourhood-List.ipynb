{
 "cells": [
  {
   "cell_type": "code",
   "execution_count": 1,
   "id": "5c36ea48",
   "metadata": {},
   "outputs": [
    {
     "name": "stderr",
     "output_type": "stream",
     "text": [
      "/Users/rc/miniforge3/envs/chat/lib/python3.10/site-packages/pinecone/index.py:4: TqdmExperimentalWarning: Using `tqdm.autonotebook.tqdm` in notebook mode. Use `tqdm.tqdm` instead to force console mode (e.g. in jupyter console)\n",
      "  from tqdm.autonotebook import tqdm\n"
     ]
    }
   ],
   "source": [
    "import json\n",
    "import random\n",
    "import os \n",
    "from dotenv import load_dotenv\n",
    "import pinecone\n",
    "from langchain.embeddings.openai import OpenAIEmbeddings\n",
    "from langchain.vectorstores import Pinecone\n",
    "import json \n",
    "from langchain.embeddings.openai import OpenAIEmbeddings\n",
    "\n",
    "\n",
    "load_dotenv()\n",
    "openai_key = os.getenv('OPENAI_KEY')\n",
    "os.environ['OPENAI_API_KEY'] = openai_key\n",
    "embeddings = OpenAIEmbeddings()\n",
    "pinecone_api_key = os.getenv('PINECONE_KEY')\n",
    "pinecone_env_name = os.getenv('PINECONE_ENV')\n",
    "pinecone_index_name = os.getenv('PINECONE_INDEX')"
   ]
  },
  {
   "cell_type": "markdown",
   "id": "d8b990f2",
   "metadata": {},
   "source": [
    "# Load embeddings of PDF and graphs"
   ]
  },
  {
   "cell_type": "code",
   "execution_count": 2,
   "id": "1facc796",
   "metadata": {},
   "outputs": [],
   "source": [
    "with open('pdf_embedding.json', 'r') as f:\n",
    "    # Use json.load to load the data from the file.\n",
    "    pdf_embedding = json.load(f)"
   ]
  },
  {
   "cell_type": "code",
   "execution_count": 3,
   "id": "0cff1f06",
   "metadata": {},
   "outputs": [],
   "source": [
    "with open('graph_embedding.json', 'r') as f:\n",
    "    # Use json.load to load the data from the file.\n",
    "    graph_embedding = json.load(f)"
   ]
  },
  {
   "cell_type": "code",
   "execution_count": 4,
   "id": "6f99dc4a",
   "metadata": {},
   "outputs": [
    {
     "data": {
      "text/plain": [
       "dict_keys(['text', 'vectors', 'categories'])"
      ]
     },
     "execution_count": 4,
     "metadata": {},
     "output_type": "execute_result"
    }
   ],
   "source": [
    "pdf_embedding.keys()"
   ]
  },
  {
   "cell_type": "code",
   "execution_count": 5,
   "id": "0ddb0113",
   "metadata": {},
   "outputs": [
    {
     "data": {
      "text/plain": [
       "(dict_keys(['text', 'vectors', 'categories']),\n",
       " dict_keys(['text', 'vectors', 'categories']))"
      ]
     },
     "execution_count": 5,
     "metadata": {},
     "output_type": "execute_result"
    }
   ],
   "source": [
    "pdf_embedding.keys(), graph_embedding.keys()"
   ]
  },
  {
   "cell_type": "markdown",
   "id": "f3d4a5d8",
   "metadata": {},
   "source": [
    "# Choose Examples"
   ]
  },
  {
   "cell_type": "code",
   "execution_count": 6,
   "id": "31a3ff28",
   "metadata": {},
   "outputs": [
    {
     "name": "stdout",
     "output_type": "stream",
     "text": [
      "The test chunk of PDF is the 938 of embedding vectors and its content is: \n",
      " (288)\n",
      "\n",
      "income tax rate of 25% (2018: 25%)\n",
      "\n",
      "Tax effects of:\n",
      "\n",
      "Income not subject to tax (primarily\n",
      "\n",
      "Financial guarantees Where the Company enters into financial guarantee contracts to guarantee the indebtedness of other companies within its group, the Company considers these to be insurance arrangements and accounts for them as such. In this respect, the Company treats the guarantee contract as a contingent liability until such time as it becomes probable that the Company will be required to make a payment under the guarantee.\n",
      "\n",
      "4,528\n",
      "\n",
      "87\n",
      "\n",
      "tax exempt dividends)\n",
      "\n",
      "(35)\n",
      "\n",
      "(27)\n",
      "\n",
      "Non recoverable withholding tax\n",
      "\n",
      "–\n",
      "\n",
      "(10)\n",
      "\n",
      "(Under)/over provided in prior years\n",
      "\n",
      "79\n",
      "\n",
      "(12)\n",
      "\n",
      "Reduction in tax rate on deferred tax balances\n",
      "\n",
      "Utilisation of prior year tax credit\n",
      "\n",
      "78\n",
      "\n",
      "85\n",
      "\n",
      "(15)\n",
      "\n",
      "29\n",
      "\n",
      "Other\n",
      "\n",
      "IFRS 16 - Leases Unilever N.V. does not have any lease arrangements on a standalone basis and so there is no impact of IFRS 16.\n",
      "\n",
      "(135)\n",
      "\n",
      "Total tax expense\n",
      "\n",
      "(136)\n",
      "\n",
      "5. Intangible assets\n",
      "\n",
      "€ million\n"
     ]
    }
   ],
   "source": [
    "# Pick up random chunk\n",
    "select_idx = random.randint(0, len(pdf_embedding[\"text\"]))\n",
    "test_chunk = pdf_embedding[\"text\"][select_idx][0]\n",
    "print (f\"The test chunk of PDF is the {select_idx} of embedding vectors and its content is: \\n {test_chunk}\")"
   ]
  },
  {
   "cell_type": "markdown",
   "id": "f5348a1c",
   "metadata": {},
   "source": [
    "# Get the TopK neighbourhod list"
   ]
  },
  {
   "cell_type": "markdown",
   "id": "bc3be45c",
   "metadata": {},
   "source": [
    "# Option 1. Use Pinecone Vectorstore to perform similarity search"
   ]
  },
  {
   "cell_type": "markdown",
   "id": "70e290be",
   "metadata": {},
   "source": [
    "<font size=4 color=green> This option is suitable for delopyment, but not suitable for research as it needs to upload the vector database first and then use their own API."
   ]
  },
  {
   "cell_type": "code",
   "execution_count": 7,
   "id": "ccbd730f",
   "metadata": {},
   "outputs": [],
   "source": [
    "pinecone.init(api_key=pinecone_api_key,environment=pinecone_env_name)\n",
    "index = pinecone.Index(pinecone_index_name)"
   ]
  },
  {
   "cell_type": "code",
   "execution_count": 8,
   "id": "a2959fb1",
   "metadata": {},
   "outputs": [],
   "source": [
    "vectorstore = Pinecone(index,embeddings.embed_query, \"text\", namespace=\"chatbot-testing\")"
   ]
  },
  {
   "cell_type": "code",
   "execution_count": 9,
   "id": "b61c85fd",
   "metadata": {},
   "outputs": [
    {
     "data": {
      "text/plain": [
       "[Document(page_content='Financial guarantees Where the Company enters into financial guarantee contracts to guarantee the indebtedness of other companies within its group, the Company considers these to be insurance arrangements and accounts for them as such. In this respect, the Company treats the guarantee contract as a contingent liability until such time as it becomes probable that the Company will be required to make a payment under the guarantee.\\n\\n4,528\\n\\n87\\n\\ntax exempt dividends)\\n\\n(35)\\n\\n(27)\\n\\nNon recoverable withholding tax\\n\\n–\\n\\n(10)\\n\\n(Under)/over provided in prior years\\n\\n79\\n\\n(12)\\n\\nReduction in tax rate on deferred tax balances\\n\\nUtilisation of prior year tax credit\\n\\n78\\n\\n85\\n\\n(15)\\n\\n29\\n\\nOther\\n\\nIFRS 16 - Leases Unilever N.V. does not have any lease arrangements on a standalone basis and so there is no impact of IFRS 16.\\n\\n(135)\\n\\nTotal tax expense\\n\\n(136)\\n\\n5. Intangible assets\\n\\n€ million\\n\\n€ million Indefinite- life intangible assets\\n\\n€ million € million € million\\n\\n1. Operating profit/(loss)', metadata={'source': 'docs/unilever-annual-report-and-accounts-2019.pdf'}),\n",
       " Document(page_content='DIVIDENDS Under IAS 10 ‘Events after the Balance Sheet Date’, proposed dividends do not meet the definition of a liability. Therefore, we do not recognise a liability in any period for dividends that have been proposed but will not be approved until after the balance sheet date. This holds for external dividends as well as intra-group dividends paid to the parent company.\\n\\nFINANCIAL GUARANTEES Where the Company enters into financial guarantee contracts to guarantee the indebtedness of other companies within its group, the Company considers these to be insurance arrangements and accounts for them as such. In this respect, the Company treats the guarantee contract as a contingent liability until such time as it becomes probable that the Company will be required to make a payment under the guarantee.\\n\\nTotal tax expense\\n\\n(135)\\n\\n(126)\\n\\n5. INTANGIBLE ASSETS\\n\\n€ million € million € million € million € million\\n\\nIndefinite- life intangible\\n\\nFinite-life intangible assets Other\\n\\nGoodwill', metadata={'source': 'docs/Unilever-Annual-Report-and-Accounts-2018.pdf'}),\n",
       " Document(page_content='Tax charge in income statement\\n\\nCurrent tax\\n\\nCurrent year\\n\\n(2,647)\\n\\n(2,398)\\n\\n(2,098)\\n\\n(10)\\n\\n(21)\\n\\n119\\n\\nOver/(under) provided in prior years\\n\\n(2,657)\\n\\n(2,419)\\n\\n(1,979)\\n\\nDeferred tax\\n\\nOrigination and reversal of temporary differences\\n\\n5\\n\\n53\\n\\n(255)\\n\\nChanges in tax rates\\n\\n(12)\\n\\n604\\n\\n(59)\\n\\nRecognition of previously unrecognised losses brought forward\\n\\n92\\n\\n92\\n\\n30\\n\\n85\\n\\n749\\n\\n(284)\\n\\n(2,572)\\n\\n(1,670)\\n\\n(2,263)\\n\\n(a) Restated following adoption of IFRS 16. See note 1 and note 24 for further details.\\n\\nThe reconciliation between the computed weighted average rate of income tax expense, which is generally applicable to Unilever companies, and the actual rate of taxation charged is as follows:\\n\\n% 2018 (Restated)(a)\\n\\n% 2017 (Restated)(a)\\n\\n% 2019\\n\\nReconciliation of effective tax rate\\n\\nComputed rate of tax(b) Differences between computed rate of tax and effective tax rate due to: Incentive tax credits\\n\\n25\\n\\n26\\n\\n24\\n\\n(3)\\n\\n(4)\\n\\n(2)\\n\\nWithholding tax on dividends\\n\\n2\\n\\n2\\n\\n3', metadata={'source': 'docs/unilever-annual-report-and-accounts-2019.pdf'})]"
      ]
     },
     "execution_count": 9,
     "metadata": {},
     "output_type": "execute_result"
    }
   ],
   "source": [
    "neighbouhood_docs = vectorstore.similarity_search(test_chunk, k=5)\n",
    "neighbouhood_docs[:3]"
   ]
  },
  {
   "cell_type": "markdown",
   "id": "5a7fb12a",
   "metadata": {},
   "source": [
    "# Option 2. Use KNN nearest neighbour search"
   ]
  },
  {
   "cell_type": "markdown",
   "id": "39c45b02",
   "metadata": {},
   "source": [
    "<font size=4 color=green> This option is suitable for research at development stage, but not suitable for delopyment as it needs to align the local data structure"
   ]
  },
  {
   "cell_type": "code",
   "execution_count": 10,
   "id": "d0db9e09",
   "metadata": {},
   "outputs": [],
   "source": [
    "import numpy as np\n",
    "import heapq\n",
    "\n",
    "def cosine_similarity(a, b):\n",
    "    \"\"\"Compute the cosine similarity between vector a and vector b\"\"\"\n",
    "    dot_product = np.dot(a, b)\n",
    "    norm_a = np.linalg.norm(a)\n",
    "    norm_b = np.linalg.norm(b)\n",
    "    return dot_product / (norm_a * norm_b)\n",
    "\n",
    "def find_most_similar_vectors(input_vector, vector_list, top_k):\n",
    "    \"\"\"Find the topK most similar vectors to the input_vector in the vector_list\"\"\"\n",
    "    similarity_scores = []\n",
    "\n",
    "    for i, vector in enumerate(vector_list):\n",
    "        similarity_score = cosine_similarity(input_vector, vector[0])\n",
    "        similarity_scores.append((similarity_score, i))\n",
    "\n",
    "    # Get the topK vectors\n",
    "    top_k_vectors = heapq.nlargest(top_k, similarity_scores)\n",
    "\n",
    "    # Indices of the topK vectors\n",
    "    top_k_indices = [item[1] for item in top_k_vectors]\n",
    "\n",
    "    return top_k_indices"
   ]
  },
  {
   "cell_type": "code",
   "execution_count": 11,
   "id": "a1b289be",
   "metadata": {},
   "outputs": [
    {
     "data": {
      "text/plain": [
       "[['(288)\\n\\nincome tax rate of 25% (2018: 25%)\\n\\nTax effects of:\\n\\nIncome not subject to tax (primarily\\n\\nFinancial guarantees Where the Company enters into financial guarantee contracts to guarantee the indebtedness of other companies within its group, the Company considers these to be insurance arrangements and accounts for them as such. In this respect, the Company treats the guarantee contract as a contingent liability until such time as it becomes probable that the Company will be required to make a payment under the guarantee.\\n\\n4,528\\n\\n87\\n\\ntax exempt dividends)\\n\\n(35)\\n\\n(27)\\n\\nNon recoverable withholding tax\\n\\n–\\n\\n(10)\\n\\n(Under)/over provided in prior years\\n\\n79\\n\\n(12)\\n\\nReduction in tax rate on deferred tax balances\\n\\nUtilisation of prior year tax credit\\n\\n78\\n\\n85\\n\\n(15)\\n\\n29\\n\\nOther\\n\\nIFRS 16 - Leases Unilever N.V. does not have any lease arrangements on a standalone basis and so there is no impact of IFRS 16.\\n\\n(135)\\n\\nTotal tax expense\\n\\n(136)\\n\\n5. Intangible assets\\n\\n€ million'],\n",
       " ['(4,770)\\n\\n(1,329)\\n\\n4,528 (35) – 79 78 (15)\\n\\n1,133 (58) (7) – 87 48\\n\\nDIVIDENDS Under IAS 10 ‘Events after the Balance Sheet Date’, proposed dividends do not meet the definition of a liability. Therefore, we do not recognise a liability in any period for dividends that have been proposed but will not be approved until after the balance sheet date. This holds for external dividends as well as intra-group dividends paid to the parent company.\\n\\nFINANCIAL GUARANTEES Where the Company enters into financial guarantee contracts to guarantee the indebtedness of other companies within its group, the Company considers these to be insurance arrangements and accounts for them as such. In this respect, the Company treats the guarantee contract as a contingent liability until such time as it becomes probable that the Company will be required to make a payment under the guarantee.\\n\\nTotal tax expense\\n\\n(135)\\n\\n(126)\\n\\n5. INTANGIBLE ASSETS\\n\\n€ million € million € million € million € million'],\n",
       " ['€ million 2018 (Restated)(a)\\n\\n€ million 2017 (Restated)(a)\\n\\n€ million 2019\\n\\nTax charge in income statement\\n\\nCurrent tax\\n\\nCurrent year\\n\\n(2,647)\\n\\n(2,398)\\n\\n(2,098)\\n\\n(10)\\n\\n(21)\\n\\n119\\n\\nOver/(under) provided in prior years\\n\\n(2,657)\\n\\n(2,419)\\n\\n(1,979)\\n\\nDeferred tax\\n\\nOrigination and reversal of temporary differences\\n\\n5\\n\\n53\\n\\n(255)\\n\\nChanges in tax rates\\n\\n(12)\\n\\n604\\n\\n(59)\\n\\nRecognition of previously unrecognised losses brought forward\\n\\n92\\n\\n92\\n\\n30\\n\\n85\\n\\n749\\n\\n(284)\\n\\n(2,572)\\n\\n(1,670)\\n\\n(2,263)\\n\\n(a) Restated following adoption of IFRS 16. See note 1 and note 24 for further details.\\n\\nThe reconciliation between the computed weighted average rate of income tax expense, which is generally applicable to Unilever companies, and the actual rate of taxation charged is as follows:\\n\\n% 2018 (Restated)(a)\\n\\n% 2017 (Restated)(a)\\n\\n% 2019\\n\\nReconciliation of effective tax rate\\n\\nComputed rate of tax(b) Differences between computed rate of tax and effective tax rate due to: Incentive tax credits\\n\\n25\\n\\n26\\n\\n24\\n\\n(3)\\n\\n(4)\\n\\n(2)']]"
      ]
     },
     "execution_count": 11,
     "metadata": {},
     "output_type": "execute_result"
    }
   ],
   "source": [
    "input_vector = pdf_embedding[\"vectors\"][select_idx][0]\n",
    "vector_list = pdf_embedding[\"vectors\"]\n",
    "top_k_indices = find_most_similar_vectors(input_vector, vector_list, top_k=5)\n",
    "similar_chunks = [pdf_embedding[\"text\"][idx] for idx in top_k_indices]\n",
    "similar_chunks [:3]"
   ]
  },
  {
   "cell_type": "markdown",
   "id": "e5ae85af",
   "metadata": {},
   "source": [
    "# <font color =blue>As we can see, the pinecone use KNN nearest neigoubour search to find similar documents as the results are exactly same. The metric is depened on the setting of pinecone database."
   ]
  },
  {
   "cell_type": "markdown",
   "id": "3b5eab08",
   "metadata": {},
   "source": [
    "# Similar for Graph Nodes and Edges"
   ]
  },
  {
   "cell_type": "code",
   "execution_count": 12,
   "id": "bf6a67c6",
   "metadata": {},
   "outputs": [
    {
     "name": "stdout",
     "output_type": "stream",
     "text": [
      "The test chunk of PDF is the 14 of embedding vectors and its content is: \n",
      " 1._Consumer_benefits\n"
     ]
    }
   ],
   "source": [
    "select_idx = random.randint(0, len(graph_embedding[\"text\"]))\n",
    "test_node = graph_embedding[\"text\"][select_idx]\n",
    "print (f\"The test chunk of PDF is the {select_idx} of embedding vectors and its content is: \\n {test_node}\")"
   ]
  },
  {
   "cell_type": "code",
   "execution_count": 13,
   "id": "66816ccd",
   "metadata": {},
   "outputs": [
    {
     "data": {
      "text/plain": [
       "['1._Consumer_benefits',\n",
       " '7._Consumer_insight_',\n",
       " '6._Consumer_Use',\n",
       " '1._Innovation',\n",
       " '3._Improved_health_and_well_being']"
      ]
     },
     "execution_count": 13,
     "metadata": {},
     "output_type": "execute_result"
    }
   ],
   "source": [
    "input_vector = graph_embedding[\"vectors\"][select_idx][0]\n",
    "vector_list = graph_embedding[\"vectors\"]\n",
    "top_k_indices = find_most_similar_vectors(input_vector, vector_list, top_k=5)\n",
    "similar_nodes = [graph_embedding[\"text\"][idx] for idx in top_k_indices]\n",
    "similar_nodes"
   ]
  },
  {
   "cell_type": "markdown",
   "id": "fb274952",
   "metadata": {},
   "source": [
    "# <font color=red>Get the neighbour graph elements and chunks"
   ]
  },
  {
   "cell_type": "code",
   "execution_count": 14,
   "id": "5dd6690f",
   "metadata": {},
   "outputs": [],
   "source": [
    "def get_closet_graph_elements(input_text, graph_embedding):\n",
    "    query_vector = embeddings.embed_query(input_text)\n",
    "    top_k_indices = find_most_similar_vectors(input_vector, graph_embedding[\"vectors\"], top_k=5)\n",
    "    \n",
    "    return [graph_embedding[\"text\"][idx] for idx in top_k_indices]\n",
    "\n",
    "def get_closet_pdf_elements(input_text, pdf_embedding):\n",
    "    query_vector = embeddings.embed_query(input_text)\n",
    "    top_k_indices = find_most_similar_vectors(input_vector, pdf_embedding[\"vectors\"], top_k=5)\n",
    "    return [pdf_embedding[\"text\"][idx] for idx in top_k_indices]"
   ]
  },
  {
   "cell_type": "code",
   "execution_count": 15,
   "id": "954b249d",
   "metadata": {},
   "outputs": [
    {
     "data": {
      "text/plain": [
       "['We’re making good progress at management level. Women held 51% of our managerial roles as of December 2019 and our efforts have been recognised – we were featured in the Bloomberg Gender Equality Index in 2019. Despite this, there is still work to be done to ensure a balanced representation of women at senior management level and above. Among the various initiatives to address this, we have two targeted programmes to develop our senior women and create a healthy pipeline of talent.\\n\\nOur aim is simple: to be a diverse and inclusive workplace where people with purpose thrive.\\n\\nFit for the future']"
      ]
     },
     "execution_count": 15,
     "metadata": {},
     "output_type": "execute_result"
    }
   ],
   "source": [
    "example_pdf_chunk = pdf_embedding[\"text\"][100]\n",
    "example_pdf_chunk"
   ]
  },
  {
   "cell_type": "code",
   "execution_count": 16,
   "id": "bea504ff",
   "metadata": {},
   "outputs": [
    {
     "data": {
      "text/plain": [
       "['1._Consumer_benefits',\n",
       " '7._Consumer_insight_',\n",
       " '6._Consumer_Use',\n",
       " '1._Innovation',\n",
       " '3._Improved_health_and_well_being']"
      ]
     },
     "execution_count": 16,
     "metadata": {},
     "output_type": "execute_result"
    }
   ],
   "source": [
    "get_closet_graph_elements(example_pdf_chunk[0], graph_embedding)"
   ]
  },
  {
   "cell_type": "code",
   "execution_count": 17,
   "id": "45ae600b",
   "metadata": {},
   "outputs": [
    {
     "data": {
      "text/plain": [
       "[['As the ultimate user of our products, consumers continue to look for quality products that are convenient and good value – and increasingly want more natural ingredients and less packaging and waste. We also know that brands that demonstrate a meaningful purpose create conversations and brand loyalty, particularly among younger generations.\\n\\nFor more on consumers see pages 14 to 15.\\n\\nOur people Without talented and committed employees, we could never deliver on our ambitions.\\n\\nInterests and concerns\\n\\nHow we engaged in 2019\\n\\nConsiderations and outcomes'],\n",
       " ['Fragmentation remains a principal driver of change, impacting consumer journeys, route-to-market channels and media, and brand spend. Consumers are taking different paths to purchase, often combining offline and online channels where influencers are a growing force. Younger consumers continue to prioritise meaning over materialism and are demanding more authenticity, transparency and natural ingredients. The talkability of brands is vital in a fragmented digital media landscape, favouring those with a strong point of view, or purpose, relevant to consumers. The growth of the global workforce and middle class consumers, especially in emerging markets, has resulted in long-term shifts favouring greater convenience and time-saving attributes.'],\n",
       " ['Activities like these don’t just benefit people and the environment, they raise the profile of our brands among consumers. For instance, the markets in which Brooke Bond activated its campaign around mental health and disability grew faster than those where it was not activated in 2019. And in the wake of Knorr’s Future 50 Foods campaign in Belgium, we saw a 10% rise in sales.'],\n",
       " ['The Group also provides other post-employment benefits, mainly post-employment healthcare plans in the United States. These plans are predominantly unfunded.\\n\\nGovernance'],\n",
       " ['As both younger and older generations call for businesses and politicians to do more, only international co-operation and bold action from businesses and brands will start to create the systemic change needed to protect our planet. The cost of inaction far outweighs the cost of action.\\n\\nDigital channels bring opportunities for more targeted marketing, deeper engagement and stronger connections between brands and consumers all over the world. Yet, with access to richer data and more intelligent analytics come risks and concerns around data security and privacy – businesses need to collect and use data in responsible ways.\\n\\nRelated principal risks: Climate change, Plastic packaging, Ethical (pages 36 and 39)\\n\\nRelated principal risks: Business transformation, Supply chain, Customer, Systems and information (pages 36 to 38)\\n\\nFor more on our response see pages 18 to 19.\\n\\nFor more on our response see page 15.\\n\\nLiving differently\\n\\nThe future of work']]"
      ]
     },
     "execution_count": 17,
     "metadata": {},
     "output_type": "execute_result"
    }
   ],
   "source": [
    "get_closet_pdf_elements(example_pdf_chunk[0], pdf_embedding)"
   ]
  },
  {
   "cell_type": "code",
   "execution_count": null,
   "id": "5f4b7e37",
   "metadata": {},
   "outputs": [],
   "source": []
  },
  {
   "cell_type": "code",
   "execution_count": null,
   "id": "93e67f3a",
   "metadata": {},
   "outputs": [],
   "source": []
  }
 ],
 "metadata": {
  "kernelspec": {
   "display_name": "chat",
   "language": "python",
   "name": "chat"
  },
  "language_info": {
   "codemirror_mode": {
    "name": "ipython",
    "version": 3
   },
   "file_extension": ".py",
   "mimetype": "text/x-python",
   "name": "python",
   "nbconvert_exporter": "python",
   "pygments_lexer": "ipython3",
   "version": "3.10.0"
  }
 },
 "nbformat": 4,
 "nbformat_minor": 5
}
