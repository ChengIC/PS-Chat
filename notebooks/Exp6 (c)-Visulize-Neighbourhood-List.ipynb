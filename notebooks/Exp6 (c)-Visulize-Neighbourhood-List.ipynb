{
 "cells": [
  {
   "cell_type": "code",
   "execution_count": 1,
   "id": "5c36ea48",
   "metadata": {},
   "outputs": [
    {
     "name": "stderr",
     "output_type": "stream",
     "text": [
      "/Users/rc/miniforge3/envs/chat/lib/python3.10/site-packages/pinecone/index.py:4: TqdmExperimentalWarning: Using `tqdm.autonotebook.tqdm` in notebook mode. Use `tqdm.tqdm` instead to force console mode (e.g. in jupyter console)\n",
      "  from tqdm.autonotebook import tqdm\n"
     ]
    }
   ],
   "source": [
    "import json\n",
    "import random\n",
    "import os \n",
    "from dotenv import load_dotenv\n",
    "import pinecone\n",
    "from langchain.embeddings.openai import OpenAIEmbeddings\n",
    "from langchain.vectorstores import Pinecone\n",
    "import json \n",
    "from langchain.embeddings.openai import OpenAIEmbeddings\n",
    "\n",
    "\n",
    "load_dotenv()\n",
    "openai_key = os.getenv('OPENAI_KEY')\n",
    "os.environ['OPENAI_API_KEY'] = openai_key\n",
    "embeddings = OpenAIEmbeddings()\n",
    "pinecone_api_key = os.getenv('PINECONE_KEY')\n",
    "pinecone_env_name = os.getenv('PINECONE_ENV')\n",
    "pinecone_index_name = os.getenv('PINECONE_INDEX')"
   ]
  },
  {
   "cell_type": "markdown",
   "id": "d8b990f2",
   "metadata": {},
   "source": [
    "# Load embeddings of PDF and graphs"
   ]
  },
  {
   "cell_type": "code",
   "execution_count": 2,
   "id": "1facc796",
   "metadata": {},
   "outputs": [],
   "source": [
    "with open('pdf_embedding.json', 'r') as f:\n",
    "    # Use json.load to load the data from the file.\n",
    "    pdf_embedding = json.load(f)"
   ]
  },
  {
   "cell_type": "code",
   "execution_count": 3,
   "id": "0cff1f06",
   "metadata": {},
   "outputs": [],
   "source": [
    "with open('graph_embedding.json', 'r') as f:\n",
    "    # Use json.load to load the data from the file.\n",
    "    graph_embedding = json.load(f)"
   ]
  },
  {
   "cell_type": "code",
   "execution_count": 4,
   "id": "6f99dc4a",
   "metadata": {},
   "outputs": [
    {
     "data": {
      "text/plain": [
       "dict_keys(['text', 'vectors', 'categories'])"
      ]
     },
     "execution_count": 4,
     "metadata": {},
     "output_type": "execute_result"
    }
   ],
   "source": [
    "pdf_embedding.keys()"
   ]
  },
  {
   "cell_type": "code",
   "execution_count": 5,
   "id": "0ddb0113",
   "metadata": {},
   "outputs": [
    {
     "data": {
      "text/plain": [
       "(dict_keys(['text', 'vectors', 'categories']),\n",
       " dict_keys(['text', 'vectors', 'categories']))"
      ]
     },
     "execution_count": 5,
     "metadata": {},
     "output_type": "execute_result"
    }
   ],
   "source": [
    "pdf_embedding.keys(), graph_embedding.keys()"
   ]
  },
  {
   "cell_type": "markdown",
   "id": "f3d4a5d8",
   "metadata": {},
   "source": [
    "# Choose Examples"
   ]
  },
  {
   "cell_type": "code",
   "execution_count": 6,
   "id": "31a3ff28",
   "metadata": {},
   "outputs": [
    {
     "name": "stdout",
     "output_type": "stream",
     "text": [
      "The test chunk of PDF is the 1131 of embedding vectors and its content is: \n",
      " Iran-related required disclosure Unilever operates in Iran through a non-US subsidiary. In 2019, sales in Iran were significantly less than one percent of Unilever’s worldwide turnover. During the year, this non-US subsidiary had approximately €1,334 in gross revenues and less than €547 in net profits attributable to the sale of food, personal care and home care products to the Hotel Homa Group, which is owned by the Social Security Organization of Iran, and IRR Mohammad Rasoullah Pharmacy & Kowsar ‘Veterans of IRGC’, which are affiliated with the Islamic Republic Revolutionary Guard Corps. Income, payroll and other taxes, duties and fees (including for utilities) were payable to the Government of Iran and affiliated entities in connection with our operations. Our non-US subsidiary maintains bank accounts in Iran with various banks to facilitate our business in the country and make any required payments to the Government of Iran and affiliated entities. While we currently continue our\n"
     ]
    }
   ],
   "source": [
    "# Pick up random chunk\n",
    "select_idx = random.randint(0, len(pdf_embedding[\"text\"]))\n",
    "test_chunk = pdf_embedding[\"text\"][select_idx][0]\n",
    "print (f\"The test chunk of PDF is the {select_idx} of embedding vectors and its content is: \\n {test_chunk}\")"
   ]
  },
  {
   "cell_type": "markdown",
   "id": "f5348a1c",
   "metadata": {},
   "source": [
    "# Get the TopK neighbourhod list"
   ]
  },
  {
   "cell_type": "markdown",
   "id": "bc3be45c",
   "metadata": {},
   "source": [
    "# Option 1. Use Pinecone Vectorstore to perform similarity search"
   ]
  },
  {
   "cell_type": "markdown",
   "id": "70e290be",
   "metadata": {},
   "source": [
    "<font size=4 color=green> This option is suitable for delopyment, but not suitable for research as it needs to upload the vector database first and then use their own API."
   ]
  },
  {
   "cell_type": "code",
   "execution_count": 7,
   "id": "ccbd730f",
   "metadata": {},
   "outputs": [],
   "source": [
    "pinecone.init(api_key=pinecone_api_key,environment=pinecone_env_name)\n",
    "index = pinecone.Index(pinecone_index_name)"
   ]
  },
  {
   "cell_type": "code",
   "execution_count": 8,
   "id": "a2959fb1",
   "metadata": {},
   "outputs": [],
   "source": [
    "vectorstore = Pinecone(index,embeddings.embed_query, \"text\", namespace=\"chatbot-testing\")"
   ]
  },
  {
   "cell_type": "code",
   "execution_count": 9,
   "id": "b61c85fd",
   "metadata": {},
   "outputs": [
    {
     "data": {
      "text/plain": [
       "[Document(page_content='Iran-related required disclosure Unilever operates in Iran through a non-US subsidiary. In 2019, sales in Iran were significantly less than one percent of Unilever’s worldwide turnover. During the year, this non-US subsidiary had approximately €1,334 in gross revenues and less than €547 in net profits attributable to the sale of food, personal care and home care products to the Hotel Homa Group, which is owned by the Social Security Organization of Iran, and IRR Mohammad Rasoullah Pharmacy & Kowsar ‘Veterans of IRGC’, which are affiliated with the Islamic Republic Revolutionary Guard Corps. Income, payroll and other taxes, duties and fees (including for utilities) were payable to the Government of Iran and affiliated entities in connection with our operations. Our non-US subsidiary maintains bank accounts in Iran with various banks to facilitate our business in the country and make any required payments to the Government of Iran and affiliated entities. While we currently continue our', metadata={'source': 'docs/unilever-annual-report-and-accounts-2019.pdf'}),\n",
       " Document(page_content='IRAN-RELATED REQUIRED DISCLOSURE Unilever operates in Iran through a non-US subsidiary. In 2018, sales in Iran were significantly less than one percent of Unilever’s worldwide turnover. During the year, this non-US subsidiary had approximately €1,528 in gross revenues and less than €382 in net profits attributable to the sale of food, personal care and home care products to the Hotel Homa Group, which is owned by the Social Security Organization of Iran, and IRR Mohammad Rasoullah Pharmacy, which is affiliated with the Islamic Revolutionary Guard Corps. We advertised our products on television networks that are owned by the Government of Iran or affiliated entities. Income, payroll and other taxes, duties and fees (including for utilities) were payable to the Government of Iran and affiliated entities in connection with our operations. Our non-US subsidiary maintains bank accounts in Iran with various banks to facilitate our business in the country and make any required payments to', metadata={'source': 'docs/Unilever-Annual-Report-and-Accounts-2018.pdf'}),\n",
       " Document(page_content='Further to the above disclosures (1) due to the unified board of Unilever N.V. and Unilever PLC, Unilever N.V. and Unilever PLC are each considered to be a subsidiary undertaking of the other in accordance with section 1162 (4) (b) of the Companies Act 2006 and (2) details of holdings of subsidiary undertakings in the share capitals of Unilever N.V. and Unilever PLC are given under the heading Our Shares on pages 38 to 40. In addition, we have revenues either from our own operations or otherwise in the following locations: Afghanistan, Albania, Andorra, Angola, Antigua, Armenia, Azerbaijan, Bahamas, Barbados, Belarus, Belize, Benin, Bhutan, Bosnia and Herzegovina, Botswana, Brunei Darussalam, Burkina Faso, Burundi, Cameroon, Cape Verde, Central African Republic, Chad, Comoros, Congo, Democratic Republic of Congo, Dominica, Equatorial Guinea, Eritrea, Fiji, Gabon, Gambia, Georgia, Grenada, Guinea, Guinea-Bissau, Guyana, Iceland, Iraq, Kiribati, Kuwait, Kyrgyzstan, Lesotho, Liberia,', metadata={'source': 'docs/Unilever-Annual-Report-and-Accounts-2018.pdf'})]"
      ]
     },
     "execution_count": 9,
     "metadata": {},
     "output_type": "execute_result"
    }
   ],
   "source": [
    "neighbouhood_docs = vectorstore.similarity_search(test_chunk, k=5)\n",
    "neighbouhood_docs[:3]"
   ]
  },
  {
   "cell_type": "markdown",
   "id": "5a7fb12a",
   "metadata": {},
   "source": [
    "# Option 2. Use KNN nearest neighbour search"
   ]
  },
  {
   "cell_type": "markdown",
   "id": "39c45b02",
   "metadata": {},
   "source": [
    "<font size=4 color=green> This option is suitable for research at development stage, but not suitable for delopyment as it needs to align the local data structure"
   ]
  },
  {
   "cell_type": "code",
   "execution_count": 10,
   "id": "d0db9e09",
   "metadata": {},
   "outputs": [],
   "source": [
    "import numpy as np\n",
    "import heapq\n",
    "\n",
    "def cosine_similarity(a, b):\n",
    "    \"\"\"Compute the cosine similarity between vector a and vector b\"\"\"\n",
    "    dot_product = np.dot(a, b)\n",
    "    norm_a = np.linalg.norm(a)\n",
    "    norm_b = np.linalg.norm(b)\n",
    "    return dot_product / (norm_a * norm_b)\n",
    "\n",
    "def find_most_similar_vectors(input_vector, vector_list, top_k):\n",
    "    \"\"\"Find the topK most similar vectors to the input_vector in the vector_list\"\"\"\n",
    "    similarity_scores = []\n",
    "\n",
    "    for i, vector in enumerate(vector_list):\n",
    "        similarity_score = cosine_similarity(input_vector, vector[0])\n",
    "        similarity_scores.append((similarity_score, i))\n",
    "\n",
    "    # Get the topK vectors\n",
    "    top_k_vectors = heapq.nlargest(top_k, similarity_scores)\n",
    "\n",
    "    # Indices of the topK vectors\n",
    "    top_k_indices = [item[1] for item in top_k_vectors]\n",
    "\n",
    "    return top_k_indices"
   ]
  },
  {
   "cell_type": "code",
   "execution_count": 11,
   "id": "a1b289be",
   "metadata": {},
   "outputs": [
    {
     "data": {
      "text/plain": [
       "[['Iran-related required disclosure Unilever operates in Iran through a non-US subsidiary. In 2019, sales in Iran were significantly less than one percent of Unilever’s worldwide turnover. During the year, this non-US subsidiary had approximately €1,334 in gross revenues and less than €547 in net profits attributable to the sale of food, personal care and home care products to the Hotel Homa Group, which is owned by the Social Security Organization of Iran, and IRR Mohammad Rasoullah Pharmacy & Kowsar ‘Veterans of IRGC’, which are affiliated with the Islamic Republic Revolutionary Guard Corps. Income, payroll and other taxes, duties and fees (including for utilities) were payable to the Government of Iran and affiliated entities in connection with our operations. Our non-US subsidiary maintains bank accounts in Iran with various banks to facilitate our business in the country and make any required payments to the Government of Iran and affiliated entities. While we currently continue our'],\n",
       " ['IRAN-RELATED REQUIRED DISCLOSURE Unilever operates in Iran through a non-US subsidiary. In 2018, sales in Iran were significantly less than one percent of Unilever’s worldwide turnover. During the year, this non-US subsidiary had approximately €1,528 in gross revenues and less than €382 in net profits attributable to the sale of food, personal care and home care products to the Hotel Homa Group, which is owned by the Social Security Organization of Iran, and IRR Mohammad Rasoullah Pharmacy, which is affiliated with the Islamic Revolutionary Guard Corps. We advertised our products on television networks that are owned by the Government of Iran or affiliated entities. Income, payroll and other taxes, duties and fees (including for utilities) were payable to the Government of Iran and affiliated entities in connection with our operations. Our non-US subsidiary maintains bank accounts in Iran with various banks to facilitate our business in the country and make any required payments to'],\n",
       " ['Further to the above disclosures (1) due to the unified board of Unilever N.V. and Unilever PLC, Unilever N.V. and Unilever PLC are each considered to be a subsidiary undertaking of the other in accordance with section 1162 (4) (b) of the Companies Act 2006 and (2) details of holdings of subsidiary undertakings in the share capitals of Unilever N.V. and Unilever PLC are given under the heading Our Shares on pages 38 to 40. In addition, we have revenues either from our own operations or otherwise in the following locations: Afghanistan, Albania, Andorra, Angola, Antigua, Armenia, Azerbaijan, Bahamas, Barbados, Belarus, Belize, Benin, Bhutan, Bosnia and Herzegovina, Botswana, Brunei Darussalam, Burkina Faso, Burundi, Cameroon, Cape Verde, Central African Republic, Chad, Comoros, Congo, Democratic Republic of Congo, Dominica, Equatorial Guinea, Eritrea, Fiji, Gabon, Gambia, Georgia, Grenada, Guinea, Guinea-Bissau, Guyana, Iceland, Iraq, Kiribati, Kuwait, Kyrgyzstan, Lesotho, Liberia,']]"
      ]
     },
     "execution_count": 11,
     "metadata": {},
     "output_type": "execute_result"
    }
   ],
   "source": [
    "input_vector = pdf_embedding[\"vectors\"][select_idx][0]\n",
    "vector_list = pdf_embedding[\"vectors\"]\n",
    "top_k_indices = find_most_similar_vectors(input_vector, vector_list, top_k=5)\n",
    "similar_chunks = [pdf_embedding[\"text\"][idx] for idx in top_k_indices]\n",
    "similar_chunks [:3]"
   ]
  },
  {
   "cell_type": "markdown",
   "id": "e5ae85af",
   "metadata": {},
   "source": [
    "# <font color =blue>As we can see, the pinecone use KNN nearest neigoubour search to find similar documents as the results are exactly same. The metric is depened on the setting of pinecone database."
   ]
  },
  {
   "cell_type": "markdown",
   "id": "3b5eab08",
   "metadata": {},
   "source": [
    "# Similar for Graph Nodes and Edges"
   ]
  },
  {
   "cell_type": "code",
   "execution_count": 12,
   "id": "bf6a67c6",
   "metadata": {},
   "outputs": [
    {
     "name": "stdout",
     "output_type": "stream",
     "text": [
      "The test chunk of PDF is the 55 of embedding vectors and its content is: \n",
      " Innovation_theme\n"
     ]
    }
   ],
   "source": [
    "select_idx = random.randint(0, len(graph_embedding[\"text\"]))\n",
    "test_node = graph_embedding[\"text\"][select_idx]\n",
    "print (f\"The test chunk of PDF is the {select_idx} of embedding vectors and its content is: \\n {test_node}\")"
   ]
  },
  {
   "cell_type": "code",
   "execution_count": 13,
   "id": "66816ccd",
   "metadata": {},
   "outputs": [
    {
     "data": {
      "text/plain": [
       "['Innovation_theme',\n",
       " 'Strategy_theme',\n",
       " 'Quality_and_Service_theme',\n",
       " 'Business_Transformation_themes',\n",
       " '1._Innovation']"
      ]
     },
     "execution_count": 13,
     "metadata": {},
     "output_type": "execute_result"
    }
   ],
   "source": [
    "input_vector = graph_embedding[\"vectors\"][select_idx][0]\n",
    "vector_list = graph_embedding[\"vectors\"]\n",
    "top_k_indices = find_most_similar_vectors(input_vector, vector_list, top_k=5)\n",
    "similar_nodes = [graph_embedding[\"text\"][idx] for idx in top_k_indices]\n",
    "similar_nodes"
   ]
  },
  {
   "cell_type": "markdown",
   "id": "a17a7242",
   "metadata": {},
   "source": [
    "# <font color=red>Get the neighbour graph elements and chunks"
   ]
  },
  {
   "cell_type": "code",
   "execution_count": 17,
   "id": "5dd6690f",
   "metadata": {},
   "outputs": [
    {
     "data": {
      "text/plain": [
       "[\"c\\n\\nc\\n\\no\\n\\nu\\n\\nn\\n\\nt\\n\\ns\\n\\n2\\n\\n0\\n\\n1\\n\\n9\\n\\nPurpose-led, future-fit\\n\\nUnilever Annual Report and Accounts 2019\\n\\nUnilever Annual Report and Accounts 2019 This document is made up of the Strategic Report, the Governance Report, the Financial Statements and Notes, and Additional Information for US Listing Purposes.\\n\\nIn this report\\n\\nStrategic Report How our strategy is delivering value for our stakeholders\\n\\nAt a glance\\n\\n2\\n\\nThe Unilever Group consists of Unilever N.V. (NV) and Unilever PLC (PLC) together with the companies they control. The terms “Unilever”, the “Group”, “we”, “our” and “us” refer to the Unilever Group.\\n\\nChairman's introduction\\n\\n4\\n\\nOur Board of Directors\\n\\n5\"]"
      ]
     },
     "execution_count": 17,
     "metadata": {},
     "output_type": "execute_result"
    }
   ],
   "source": [
    "def get_closet_graph_elements(input_text, graph_embedding):\n",
    "    query_vector = embeddings.embed_query(input_text)\n",
    "    top_k_indices = find_most_similar_vectors(input_vector, graph_embedding[\"vectors\"], top_k=5)\n",
    "    \n",
    "    return [graph_embedding[\"text\"][idx] for idx in top_k_indices]\n",
    "\n",
    "def get_closet_pdf_elements(input_text, pdf_embedding):\n",
    "    query_vector = embeddings.embed_query(input_text)\n",
    "    top_k_indices = find_most_similar_vectors(input_vector, graph_embedding[\"vectors\"], top_k=5)\n",
    "    return [graph_embedding[\"text\"][idx] for idx in top_k_indices]"
   ]
  },
  {
   "cell_type": "code",
   "execution_count": 19,
   "id": "954b249d",
   "metadata": {},
   "outputs": [
    {
     "data": {
      "text/plain": [
       "['We’re making good progress at management level. Women held 51% of our managerial roles as of December 2019 and our efforts have been recognised – we were featured in the Bloomberg Gender Equality Index in 2019. Despite this, there is still work to be done to ensure a balanced representation of women at senior management level and above. Among the various initiatives to address this, we have two targeted programmes to develop our senior women and create a healthy pipeline of talent.\\n\\nOur aim is simple: to be a diverse and inclusive workplace where people with purpose thrive.\\n\\nFit for the future']"
      ]
     },
     "execution_count": 19,
     "metadata": {},
     "output_type": "execute_result"
    }
   ],
   "source": [
    "example_pdf_chunk = pdf_embedding[\"text\"][100]\n",
    "example_pdf_chunk"
   ]
  },
  {
   "cell_type": "code",
   "execution_count": null,
   "id": "905fe08d",
   "metadata": {},
   "outputs": [],
   "source": []
  },
  {
   "cell_type": "code",
   "execution_count": null,
   "id": "1aca5817",
   "metadata": {},
   "outputs": [],
   "source": []
  },
  {
   "cell_type": "code",
   "execution_count": null,
   "id": "b635a3e4",
   "metadata": {},
   "outputs": [],
   "source": []
  },
  {
   "cell_type": "code",
   "execution_count": null,
   "id": "f41f49b2",
   "metadata": {},
   "outputs": [],
   "source": []
  }
 ],
 "metadata": {
  "kernelspec": {
   "display_name": "chat",
   "language": "python",
   "name": "chat"
  },
  "language_info": {
   "codemirror_mode": {
    "name": "ipython",
    "version": 3
   },
   "file_extension": ".py",
   "mimetype": "text/x-python",
   "name": "python",
   "nbconvert_exporter": "python",
   "pygments_lexer": "ipython3",
   "version": "3.10.0"
  }
 },
 "nbformat": 4,
 "nbformat_minor": 5
}
