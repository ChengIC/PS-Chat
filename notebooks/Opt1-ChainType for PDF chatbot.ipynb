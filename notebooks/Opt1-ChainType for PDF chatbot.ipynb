{
 "cells": [
  {
   "cell_type": "markdown",
   "id": "20a51b92",
   "metadata": {},
   "source": [
    "# In the Notebook \"Workflow of PDF Chatbot\", we can have different options for the type of chains. This notebook is used to investigate the influence of chain type parameters"
   ]
  },
  {
   "cell_type": "code",
   "execution_count": 1,
   "id": "2c26a32d",
   "metadata": {},
   "outputs": [
    {
     "name": "stderr",
     "output_type": "stream",
     "text": [
      "/Users/rc/miniforge3/envs/chat/lib/python3.10/site-packages/pinecone/index.py:4: TqdmExperimentalWarning: Using `tqdm.autonotebook.tqdm` in notebook mode. Use `tqdm.tqdm` instead to force console mode (e.g. in jupyter console)\n",
      "  from tqdm.autonotebook import tqdm\n"
     ]
    }
   ],
   "source": [
    "from langchain.text_splitter import RecursiveCharacterTextSplitter\n",
    "from langchain.embeddings.openai import OpenAIEmbeddings\n",
    "from langchain.vectorstores import Pinecone\n",
    "from langchain.document_loaders import DirectoryLoader\n",
    "import os \n",
    "from dotenv import load_dotenv\n",
    "import pinecone\n",
    "\n",
    "load_dotenv()\n",
    "openai_key = os.getenv('OPENAI_KEY')\n",
    "os.environ['OPENAI_API_KEY'] = openai_key\n",
    "embeddings = OpenAIEmbeddings()\n",
    "\n",
    "\n",
    "pinecone_api_key = os.getenv('PINECONE_KEY')\n",
    "pinecone_env_name = os.getenv('PINECONE_ENV')\n",
    "pinecone_index_name = os.getenv('PINECONE_INDEX')\n",
    "\n",
    "pinecone_config = {\n",
    "    \"api_key\":pinecone_api_key,\n",
    "    \"env_name\":pinecone_env_name,\n",
    "    \"index_name\":pinecone_index_name\n",
    "}"
   ]
  },
  {
   "cell_type": "markdown",
   "id": "47a03841",
   "metadata": {},
   "source": [
    "# Load pdfs"
   ]
  },
  {
   "cell_type": "code",
   "execution_count": 2,
   "id": "64212bbc",
   "metadata": {},
   "outputs": [],
   "source": [
    "def upload_pdf_to_pinecone(pdf_directory, pinecone_config, my_namespace,\n",
    "                            chunk_size=1000, chunk_overlap=0):\n",
    "    \n",
    "    \n",
    "    my_loader = DirectoryLoader(pdf_directory, glob='**/*.pdf')\n",
    "    documents = my_loader.load()\n",
    "    text_splitter = RecursiveCharacterTextSplitter(chunk_size = chunk_size, chunk_overlap = chunk_overlap)\n",
    "    docs = text_splitter.split_documents(documents)\n",
    "    \n",
    "    # initialize pinecone\n",
    "    pinecone.init(\n",
    "        api_key=pinecone_config['api_key'],  # find at app.pinecone.io\n",
    "        environment=pinecone_config['env_name']  # next to api key in console\n",
    "    )\n",
    "    \n",
    "    docsearch = Pinecone.from_documents(docs, embeddings, index_name=pinecone_config['index_name'], namespace=my_namespace)\n",
    "    "
   ]
  },
  {
   "cell_type": "code",
   "execution_count": 3,
   "id": "c3c86316",
   "metadata": {},
   "outputs": [],
   "source": [
    "# pdf_directory = \"../docs\"\n",
    "# my_namespace = 'Unilever-2018-2019'\n",
    "# upload_pdf_to_pinecone(pdf_directory, pinecone_config, my_namespace, chunk_size=1000, chunk_overlap=200)"
   ]
  },
  {
   "cell_type": "markdown",
   "id": "a74ed7bb",
   "metadata": {},
   "source": [
    "# Load Vectorstore"
   ]
  },
  {
   "cell_type": "code",
   "execution_count": 4,
   "id": "21265462",
   "metadata": {},
   "outputs": [],
   "source": [
    "# Load vector store\n",
    "my_namespace = 'Unilever-2018-2019'\n",
    "pinecone.init(api_key=pinecone_api_key,environment=pinecone_env_name)\n",
    "index = pinecone.Index(pinecone_index_name)\n",
    "vectorstore = Pinecone(index, embeddings.embed_query, \"text\", namespace=my_namespace)"
   ]
  },
  {
   "cell_type": "markdown",
   "id": "930dc4d6",
   "metadata": {},
   "source": [
    "# Option 1. Stuff Chain"
   ]
  },
  {
   "cell_type": "code",
   "execution_count": 5,
   "id": "d235f158",
   "metadata": {},
   "outputs": [
    {
     "data": {
      "text/plain": [
       "{'output_text': ' A slowed technological change could risk affecting our data management enhancement programmes by making it difficult to manage the business, increasing the cost of recycled plastic or other alternative packaging materials, and making products less affordable or less available for our consumers.\\nSOURCES: ../docs/unilever-annual-report-and-accounts-2019.pdf'}"
      ]
     },
     "execution_count": 5,
     "metadata": {},
     "output_type": "execute_result"
    }
   ],
   "source": [
    "from langchain.llms import OpenAI\n",
    "from langchain.chains.qa_with_sources import load_qa_with_sources_chain\n",
    "\n",
    "chain = load_qa_with_sources_chain(OpenAI(temperature=0), chain_type=\"stuff\")\n",
    "query = \"In what ways could a slowed technological change risk affect our data management enhancement programmes?\"\n",
    "ref_docs = vectorstore.similarity_search(query, k=10)\n",
    "\n",
    "chain({\"input_documents\": ref_docs, \"question\": query}, return_only_outputs=True)"
   ]
  },
  {
   "cell_type": "code",
   "execution_count": 6,
   "id": "6ce431ed",
   "metadata": {},
   "outputs": [
    {
     "data": {
      "text/plain": [
       "[Document(page_content='Technological change is disrupting our traditional brand communication models. Our ability to develop and deploy the right communication, both in terms of messaging content and medium is critical to the continued strength of our brands.\\n\\nOur Research and Development function actively searches for ways in which to translate the trends in consumer preference and taste into new technologies for incorporation into future products.\\n\\nWe are dependent on creating innovative products that continue to meet the needs of our consumers and getting these new products to market with speed.\\n\\nOur innovation management process converts category strategies into projects which deliver new products to market. We develop product ideas both in house and with selected partners to enable us to respond to rapidly changing consumer trends with speed.\\n\\nRisk change since last year: No change', metadata={'source': '../docs/unilever-annual-report-and-accounts-2019.pdf'})]"
      ]
     },
     "execution_count": 6,
     "metadata": {},
     "output_type": "execute_result"
    }
   ],
   "source": [
    "ref_docs [:1]"
   ]
  },
  {
   "cell_type": "code",
   "execution_count": null,
   "id": "231e1ae3",
   "metadata": {},
   "outputs": [],
   "source": [
    "# Option 2. "
   ]
  }
 ],
 "metadata": {
  "kernelspec": {
   "display_name": "chat",
   "language": "python",
   "name": "chat"
  },
  "language_info": {
   "codemirror_mode": {
    "name": "ipython",
    "version": 3
   },
   "file_extension": ".py",
   "mimetype": "text/x-python",
   "name": "python",
   "nbconvert_exporter": "python",
   "pygments_lexer": "ipython3",
   "version": "3.10.0"
  }
 },
 "nbformat": 4,
 "nbformat_minor": 5
}
