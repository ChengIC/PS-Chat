{
 "cells": [
  {
   "cell_type": "markdown",
   "metadata": {},
   "source": [
    "# Exp 2. This is a notebook using GPT to generate the cypher  to communicate with the database"
   ]
  },
  {
   "cell_type": "markdown",
   "metadata": {},
   "source": [
    "Ref: https://github.com/tomasonjo/blogs/blob/master/llm/generic_cypher_gpt4.ipynb\n",
    "\n",
    "Make a imporvement by fetching the patterns in the cypther query"
   ]
  },
  {
   "cell_type": "code",
   "execution_count": 1,
   "metadata": {},
   "outputs": [],
   "source": [
    "from neo4j import GraphDatabase\n",
    "from neo4j.exceptions import CypherSyntaxError\n",
    "import openai\n",
    "from dotenv import load_dotenv\n",
    "import os\n",
    "import re\n",
    "\n",
    "load_dotenv()\n",
    "neo4j_url = os.getenv('NEO4J_URL')\n",
    "neo4j_user = os.getenv('NEO4J_USER')\n",
    "neo4j_password = os.getenv('NEO4J_PASSWORD')\n",
    "openai_key = os.getenv('OPENAI_KEY')\n"
   ]
  },
  {
   "cell_type": "code",
   "execution_count": 2,
   "metadata": {
    "id": "67N5Q5-CmuG8"
   },
   "outputs": [],
   "source": [
    "node_properties_query = \"\"\"\n",
    "CALL apoc.meta.data()\n",
    "YIELD label, other, elementType, type, property\n",
    "WHERE NOT type = \"RELATIONSHIP\" AND elementType = \"node\"\n",
    "WITH label AS nodeLabels, collect(property) AS properties\n",
    "RETURN {labels: nodeLabels, properties: properties} AS output\n",
    "\n",
    "\"\"\"\n",
    "\n",
    "rel_properties_query = \"\"\"\n",
    "CALL apoc.meta.data()\n",
    "YIELD label, other, elementType, type, property\n",
    "WHERE NOT type = \"RELATIONSHIP\" AND elementType = \"relationship\"\n",
    "WITH label AS nodeLabels, collect(property) AS properties\n",
    "RETURN {type: nodeLabels, properties: properties} AS output\n",
    "\"\"\"\n",
    "\n",
    "rel_query = \"\"\"\n",
    "CALL apoc.meta.data()\n",
    "YIELD label, other, elementType, type, property\n",
    "WHERE type = \"RELATIONSHIP\" AND elementType = \"node\"\n",
    "RETURN {source: label, relationship: property, target: other} AS output\n",
    "\"\"\""
   ]
  },
  {
   "cell_type": "code",
   "execution_count": 3,
   "metadata": {
    "id": "IHY0Kt2-mFFq"
   },
   "outputs": [],
   "source": [
    "def schema_text(node_props, rel_props, rels):\n",
    "    return f\"\"\"\n",
    "  This is the schema representation of the Neo4j database.\n",
    "  Node properties are the following:\n",
    "  {node_props}\n",
    "  Relationship properties are the following:\n",
    "  {rel_props}\n",
    "  Relationship point from source to target nodes\n",
    "  {rels}\n",
    "  Make sure to respect relationship types and directions\n",
    "  \"\"\"\n",
    "\n",
    "\n",
    "def fetch_cypher_query(text):\n",
    "    match = re.search('```\\n(.+?)\\n```', text, re.DOTALL)\n",
    "    if match:\n",
    "        return match.group(1)\n",
    "    else:\n",
    "        return False\n",
    "\n",
    "class Neo4jGPTQuery:\n",
    "    def __init__(self, url, user, password, openai_api_key):\n",
    "        self.driver = GraphDatabase.driver(url, auth=(user, password))\n",
    "        openai.api_key = openai_api_key\n",
    "        # construct schema\n",
    "        self.schema = self.generate_schema()\n",
    "\n",
    "    def generate_schema(self):\n",
    "        node_props = self.query_database(node_properties_query)\n",
    "        rel_props = self.query_database(rel_properties_query)\n",
    "        rels = self.query_database(rel_query)\n",
    "        return schema_text(node_props, rel_props, rels)\n",
    "\n",
    "    def refresh_schema(self):\n",
    "        self.schema = self.generate_schema()\n",
    "\n",
    "    def get_system_message(self):\n",
    "        return f\"\"\"\n",
    "        Task: Generate Cypher queries to query a Neo4j graph database based on the provided schema definition.\n",
    "        Instructions:\n",
    "        Use only the provided relationship types and properties.\n",
    "        Do not use any other relationship types or properties that are not provided.\n",
    "        If you cannot generate a Cypher statement based on the provided schema, explain the reason to the user.\n",
    "        Schema:\n",
    "        {self.schema}\n",
    "\n",
    "        Note: Do not include any explanations or apologies in your responses.\n",
    "        \"\"\"\n",
    "\n",
    "    def query_database(self, neo4j_query, params={}):\n",
    "        if fetch_cypher_query(neo4j_query):\n",
    "            neo4j_query = fetch_cypher_query(neo4j_query)\n",
    "            \n",
    "        with self.driver.session() as session:\n",
    "            result = session.run(neo4j_query, params)\n",
    "            output = [r.values() for r in result]\n",
    "            output.insert(0, result.keys())\n",
    "            return output\n",
    "\n",
    "    def construct_cypher(self, question, history=None):\n",
    "        messages = [\n",
    "            {\"role\": \"system\", \"content\": self.get_system_message()},\n",
    "            {\"role\": \"user\", \"content\": question},\n",
    "        ]\n",
    "        # Used for Cypher healing flows\n",
    "        if history:\n",
    "            messages.extend(history)\n",
    "\n",
    "        completions = openai.ChatCompletion.create(\n",
    "            model=\"gpt-3.5-turbo\",\n",
    "            temperature=0.0,\n",
    "            max_tokens=2000,\n",
    "            messages=messages\n",
    "        )\n",
    "        return completions.choices[0].message.content\n",
    "\n",
    "    def run(self, question, history=None, retry=True):\n",
    "        cypher = self.construct_cypher(question, history)\n",
    "        try:\n",
    "            return self.query_database(cypher)\n",
    "        \n",
    "        # Self-healing flow\n",
    "        except CypherSyntaxError as e:\n",
    "            # If out of retries\n",
    "            if not retry:\n",
    "                return \"Invalid Cypher syntax\"\n",
    "            \n",
    "            # Self-healing Cypher flow by\n",
    "            # providing specific error to GPT-4\n",
    "            print(\"Retrying\")\n",
    "            return self.run(\n",
    "                question,\n",
    "                [\n",
    "                    {\"role\": \"assistant\", \"content\": cypher},\n",
    "                    {\n",
    "                        \"role\": \"user\",\n",
    "                        \"content\": f\"\"\"This query returns an error: {str(e)} \n",
    "                        Please give me a improved query that works WITHOUT any explanations or apologies. \n",
    "                        Just output the Neo4j cypther!!!!\"\"\",\n",
    "                    },\n",
    "                ],\n",
    "                retry=False\n",
    "            )"
   ]
  },
  {
   "cell_type": "code",
   "execution_count": 4,
   "metadata": {
    "id": "NZTTW3TkpKFY"
   },
   "outputs": [],
   "source": [
    "ps_db = Neo4jGPTQuery(\n",
    "    url=neo4j_url,\n",
    "    user=neo4j_user,\n",
    "    password=neo4j_password,\n",
    "    openai_api_key=openai_key,\n",
    ")"
   ]
  },
  {
   "cell_type": "code",
   "execution_count": 5,
   "metadata": {},
   "outputs": [
    {
     "name": "stdout",
     "output_type": "stream",
     "text": [
      "Retrying\n"
     ]
    },
    {
     "data": {
      "text/plain": [
       "[['n'],\n",
       " [<Node element_id='4:d6043383-25ec-44a0-921e-2d58e02b99a6:0' labels=frozenset({'Project_risk'}) properties={'name': 'Poor_project_execution', 'id': 1}>],\n",
       " [<Node element_id='4:d6043383-25ec-44a0-921e-2d58e02b99a6:1' labels=frozenset({'Project_risk'}) properties={'name': 'Non-Delivery_of_benefits', 'id': 2}>],\n",
       " [<Node element_id='4:d6043383-25ec-44a0-921e-2d58e02b99a6:2' labels=frozenset({'Project_risk'}) properties={'name': 'Business_disruption_', 'id': 3}>],\n",
       " [<Node element_id='4:d6043383-25ec-44a0-921e-2d58e02b99a6:3' labels=frozenset({'Project_risk'}) properties={'name': 'Slowing_digitisation_pace', 'id': 4}>],\n",
       " [<Node element_id='4:d6043383-25ec-44a0-921e-2d58e02b99a6:4' labels=frozenset({'Project_risk'}) properties={'name': 'Slowed_technological_change', 'id': 5}>],\n",
       " [<Node element_id='4:d6043383-25ec-44a0-921e-2d58e02b99a6:5' labels=frozenset({'Mitigation'}) properties={'name': 'Executive_sponsorship', 'id': 6}>],\n",
       " [<Node element_id='4:d6043383-25ec-44a0-921e-2d58e02b99a6:6' labels=frozenset({'Mitigation'}) properties={'name': 'Steering_group', 'id': 7}>],\n",
       " [<Node element_id='4:d6043383-25ec-44a0-921e-2d58e02b99a6:7' labels=frozenset({'Mitigation'}) properties={'name': 'Regular_progress_updates', 'id': 8}>],\n",
       " [<Node element_id='4:d6043383-25ec-44a0-921e-2d58e02b99a6:8' labels=frozenset({'Mitigation'}) properties={'name': 'Broad_stakeholder_representation', 'id': 9}>],\n",
       " [<Node element_id='4:d6043383-25ec-44a0-921e-2d58e02b99a6:9' labels=frozenset({'Mitigation'}) properties={'name': 'Link_with_digital_programme_team', 'id': 10}>],\n",
       " [<Node element_id='4:d6043383-25ec-44a0-921e-2d58e02b99a6:10' labels=frozenset({'Mitigation'}) properties={'name': 'Appropriate_personnel', 'id': 11}>],\n",
       " [<Node element_id='4:d6043383-25ec-44a0-921e-2d58e02b99a6:11' labels=frozenset({'Mitigation'}) properties={'name': 'Monitor_volume_of_change_programmes', 'id': 12}>],\n",
       " [<Node element_id='4:d6043383-25ec-44a0-921e-2d58e02b99a6:12' labels=frozenset({'Programme'}) properties={'name': 'C4G_Connected_for_Growth_Change_programme', 'id': 13}>],\n",
       " [<Node element_id='4:d6043383-25ec-44a0-921e-2d58e02b99a6:13' labels=frozenset({'Programme'}) properties={'name': '5S_Smart_Programme', 'id': 14}>],\n",
       " [<Node element_id='4:d6043383-25ec-44a0-921e-2d58e02b99a6:14' labels=frozenset({'Programme'}) properties={'name': 'Net_Revenue_Mgt_programme', 'id': 15}>],\n",
       " [<Node element_id='4:d6043383-25ec-44a0-921e-2d58e02b99a6:15' labels=frozenset({'Programme'}) properties={'name': 'Acquisition_Programme_1', 'id': 16}>],\n",
       " [<Node element_id='4:d6043383-25ec-44a0-921e-2d58e02b99a6:16' labels=frozenset({'Programme'}) properties={'name': 'Acquisition_programme_2', 'id': 17}>],\n",
       " [<Node element_id='4:d6043383-25ec-44a0-921e-2d58e02b99a6:17' labels=frozenset({'Programme'}) properties={'name': 'Disposal_programme_1', 'id': 18}>],\n",
       " [<Node element_id='4:d6043383-25ec-44a0-921e-2d58e02b99a6:18' labels=frozenset({'Programme'}) properties={'name': 'Disposal_programme_2', 'id': 19}>],\n",
       " [<Node element_id='4:d6043383-25ec-44a0-921e-2d58e02b99a6:19' labels=frozenset({'Programme'}) properties={'name': 'Org._transformation_programme_1', 'id': 20}>],\n",
       " [<Node element_id='4:d6043383-25ec-44a0-921e-2d58e02b99a6:20' labels=frozenset({'Programme'}) properties={'name': 'Org._transformation_programme_2', 'id': 21}>],\n",
       " [<Node element_id='4:d6043383-25ec-44a0-921e-2d58e02b99a6:21' labels=frozenset({'Programme'}) properties={'name': 'Key_(2017-8)_programme', 'id': 22}>],\n",
       " [<Node element_id='4:d6043383-25ec-44a0-921e-2d58e02b99a6:22' labels=frozenset({'Programme'}) properties={'name': 'Brexit_Programme', 'id': 23}>],\n",
       " [<Node element_id='4:d6043383-25ec-44a0-921e-2d58e02b99a6:23' labels=frozenset({'Programme'}) properties={'name': 'Systems_integration_programme', 'id': 24}>],\n",
       " [<Node element_id='4:d6043383-25ec-44a0-921e-2d58e02b99a6:24' labels=frozenset({'Programme'}) properties={'name': 'SAP_re_implementation-programme_2', 'id': 25}>],\n",
       " [<Node element_id='4:d6043383-25ec-44a0-921e-2d58e02b99a6:25' labels=frozenset({'Programme'}) properties={'name': 'Data_management_enhancement_programme_1', 'id': 26}>],\n",
       " [<Node element_id='4:d6043383-25ec-44a0-921e-2d58e02b99a6:26' labels=frozenset({'Programme'}) properties={'name': 'Data_management_enhancement_programme_2', 'id': 27}>],\n",
       " [<Node element_id='4:d6043383-25ec-44a0-921e-2d58e02b99a6:27' labels=frozenset({'Supply_chain_strategy'}) properties={'name': 'Operating_with_Purpose:', 'id': 28}>],\n",
       " [<Node element_id='4:d6043383-25ec-44a0-921e-2d58e02b99a6:28' labels=frozenset({'Supply_chain_strategy'}) properties={'name': 'Digital_Supply_Chain:_', 'id': 29}>],\n",
       " [<Node element_id='4:d6043383-25ec-44a0-921e-2d58e02b99a6:29' labels=frozenset({'Supply_chain_strategy'}) properties={'name': 'Agility_for_a_Changing_Market:_', 'id': 30}>],\n",
       " [<Node element_id='4:d6043383-25ec-44a0-921e-2d58e02b99a6:30' labels=frozenset({'Supply_chain_strategy'}) properties={'name': 'Partnerships_for_the_future:_', 'id': 31}>],\n",
       " [<Node element_id='4:d6043383-25ec-44a0-921e-2d58e02b99a6:31' labels=frozenset({'Supply_chain_strategy'}) properties={'name': 'Reshaping_the_Asset_and_Cost_Base_', 'id': 32}>],\n",
       " [<Node element_id='4:d6043383-25ec-44a0-921e-2d58e02b99a6:32' labels=frozenset({'Supply_chain_strategy'}) properties={'name': 'Talent_&_Capabilities:', 'id': 33}>],\n",
       " [<Node element_id='4:d6043383-25ec-44a0-921e-2d58e02b99a6:33' labels=frozenset({'Partner_to_win'}) properties={'name': 'Quality_and_Service_theme', 'id': 34}>],\n",
       " [<Node element_id='4:d6043383-25ec-44a0-921e-2d58e02b99a6:34' labels=frozenset({'Partner_to_win'}) properties={'name': 'Capacity_and_Capability_theme', 'id': 35}>],\n",
       " [<Node element_id='4:d6043383-25ec-44a0-921e-2d58e02b99a6:35' labels=frozenset({'Partner_to_win'}) properties={'name': 'Responsible_and_Sustainable_Living__theme', 'id': 36}>],\n",
       " [<Node element_id='4:d6043383-25ec-44a0-921e-2d58e02b99a6:36' labels=frozenset({'Partner_to_win'}) properties={'name': 'Innovation_theme', 'id': 37}>],\n",
       " [<Node element_id='4:d6043383-25ec-44a0-921e-2d58e02b99a6:37' labels=frozenset({'Partner_to_win'}) properties={'name': 'Value_theme', 'id': 38}>],\n",
       " [<Node element_id='4:d6043383-25ec-44a0-921e-2d58e02b99a6:38' labels=frozenset({'Value_creation_model'}) properties={'name': '1._Innovation', 'id': 39}>],\n",
       " [<Node element_id='4:d6043383-25ec-44a0-921e-2d58e02b99a6:39' labels=frozenset({'Value_creation_model'}) properties={'name': '2._Sourcing', 'id': 40}>],\n",
       " [<Node element_id='4:d6043383-25ec-44a0-921e-2d58e02b99a6:40' labels=frozenset({'Value_creation_model'}) properties={'name': '3._Logistics', 'id': 41}>],\n",
       " [<Node element_id='4:d6043383-25ec-44a0-921e-2d58e02b99a6:41' labels=frozenset({'Value_creation_model'}) properties={'name': '4._Marketing', 'id': 42}>],\n",
       " [<Node element_id='4:d6043383-25ec-44a0-921e-2d58e02b99a6:42' labels=frozenset({'Value_creation_model'}) properties={'name': '5._Sales', 'id': 43}>],\n",
       " [<Node element_id='4:d6043383-25ec-44a0-921e-2d58e02b99a6:43' labels=frozenset({'Value_creation_model'}) properties={'name': '6._Consumer_Use', 'id': 44}>],\n",
       " [<Node element_id='4:d6043383-25ec-44a0-921e-2d58e02b99a6:44' labels=frozenset({'Value_creation_model'}) properties={'name': '7._Consumer_insight_', 'id': 45}>],\n",
       " [<Node element_id='4:d6043383-25ec-44a0-921e-2d58e02b99a6:45' labels=frozenset({'Strategy_theme'}) properties={'name': '1._Winning_with_brands_and_innovation', 'id': 46}>],\n",
       " [<Node element_id='4:d6043383-25ec-44a0-921e-2d58e02b99a6:46' labels=frozenset({'Strategy_theme'}) properties={'name': '2._Winning_in_the_marketplace', 'id': 47}>],\n",
       " [<Node element_id='4:d6043383-25ec-44a0-921e-2d58e02b99a6:47' labels=frozenset({'Strategy_theme'}) properties={'name': '3._Winning_through_continuous_improvement', 'id': 48}>],\n",
       " [<Node element_id='4:d6043383-25ec-44a0-921e-2d58e02b99a6:48' labels=frozenset({'Strategy_theme'}) properties={'name': '4._Winning_with_people_', 'id': 49}>],\n",
       " [<Node element_id='4:d6043383-25ec-44a0-921e-2d58e02b99a6:49' labels=frozenset({'Strategy_theme'}) properties={'name': '2018_Standards_of_leadership', 'id': 50}>],\n",
       " [<Node element_id='4:d6043383-25ec-44a0-921e-2d58e02b99a6:50' labels=frozenset({'Strategy_theme'}) properties={'name': 'Beauty/PC_strategy', 'id': 51}>],\n",
       " [<Node element_id='4:d6043383-25ec-44a0-921e-2d58e02b99a6:51' labels=frozenset({'Strategy_theme'}) properties={'name': 'Food/Refresh_strategy', 'id': 52}>],\n",
       " [<Node element_id='4:d6043383-25ec-44a0-921e-2d58e02b99a6:52' labels=frozenset({'Strategy_theme'}) properties={'name': 'HomeCare_strategy', 'id': 53}>],\n",
       " [<Node element_id='4:d6043383-25ec-44a0-921e-2d58e02b99a6:53' labels=frozenset({'Strategic_dependencies'}) properties={'name': '1._Purposeful_people', 'id': 54}>],\n",
       " [<Node element_id='4:d6043383-25ec-44a0-921e-2d58e02b99a6:54' labels=frozenset({'Strategic_dependencies'}) properties={'name': '2._Natural_Resources', 'id': 55}>],\n",
       " [<Node element_id='4:d6043383-25ec-44a0-921e-2d58e02b99a6:55' labels=frozenset({'Strategic_dependencies'}) properties={'name': '3._Financial_Resources', 'id': 56}>],\n",
       " [<Node element_id='4:d6043383-25ec-44a0-921e-2d58e02b99a6:56' labels=frozenset({'Strategic_dependencies'}) properties={'name': '4._Intangible_assets', 'id': 57}>],\n",
       " [<Node element_id='4:d6043383-25ec-44a0-921e-2d58e02b99a6:57' labels=frozenset({'Strategic_dependencies'}) properties={'name': '5._Tangible_assets', 'id': 58}>],\n",
       " [<Node element_id='4:d6043383-25ec-44a0-921e-2d58e02b99a6:58' labels=frozenset({'Strategic_dependencies'}) properties={'name': '6._Suppliers', 'id': 59}>],\n",
       " [<Node element_id='4:d6043383-25ec-44a0-921e-2d58e02b99a6:59' labels=frozenset({'Strategic_dependencies'}) properties={'name': '7._Stakeholders_and_partners', 'id': 60}>],\n",
       " [<Node element_id='4:d6043383-25ec-44a0-921e-2d58e02b99a6:60' labels=frozenset({'Q4_triggers'}) properties={'name': 'Election_results->Brexit_Jan_2020', 'id': 61}>],\n",
       " [<Node element_id='4:d6043383-25ec-44a0-921e-2d58e02b99a6:61' labels=frozenset({'Q4_triggers'}) properties={'name': 'Margin_pressures', 'id': 62}>],\n",
       " [<Node element_id='4:d6043383-25ec-44a0-921e-2d58e02b99a6:62' labels=frozenset({'Q4_triggers'}) properties={'name': 'Home_Care_as_growth_driver', 'id': 63}>],\n",
       " [<Node element_id='4:d6043383-25ec-44a0-921e-2d58e02b99a6:63' labels=frozenset({'Q4_triggers'}) properties={'name': '2019_Stretch_plastic_goals', 'id': 64}>],\n",
       " [<Node element_id='4:d6043383-25ec-44a0-921e-2d58e02b99a6:64' labels=frozenset({'Q4_triggers'}) properties={'name': 'Ongoing_compliance_with_competition_laws', 'id': 65}>],\n",
       " [<Node element_id='4:d6043383-25ec-44a0-921e-2d58e02b99a6:65' labels=frozenset({'Areas_of_support'}) properties={'name': 'Review_project_portfolio_balance_for_2020_Q1', 'id': 66}>],\n",
       " [<Node element_id='4:d6043383-25ec-44a0-921e-2d58e02b99a6:66' labels=frozenset({'Areas_of_support'}) properties={'name': 'Conduct_project_assurance_readiness_for_Brexit_Programme', 'id': 67}>],\n",
       " [<Node element_id='4:d6043383-25ec-44a0-921e-2d58e02b99a6:67' labels=frozenset({'Areas_of_support'}) properties={'name': 'Identify_best_practice_regulatory_project_as_examplar', 'id': 68}>],\n",
       " [<Node element_id='4:d6043383-25ec-44a0-921e-2d58e02b99a6:68' labels=frozenset({'Areas_of_support'}) properties={'name': 'Cross-project_review_of_plastic_dependencies', 'id': 69}>],\n",
       " [<Node element_id='4:d6043383-25ec-44a0-921e-2d58e02b99a6:69' labels=frozenset({'Areas_of_support'}) properties={'name': 'Rescope_large_project_which_has_failed_to_deliver_in_2020', 'id': 70}>],\n",
       " [<Node element_id='4:d6043383-25ec-44a0-921e-2d58e02b99a6:70' labels=frozenset({'Value_Unilever_create'}) properties={'name': '1._Consumer_benefits', 'id': 79}>],\n",
       " [<Node element_id='4:d6043383-25ec-44a0-921e-2d58e02b99a6:71' labels=frozenset({'Value_Unilever_create'}) properties={'name': '2._Top_&_bottom_line_growth', 'id': 80}>],\n",
       " [<Node element_id='4:d6043383-25ec-44a0-921e-2d58e02b99a6:72' labels=frozenset({'Value_Unilever_create'}) properties={'name': '3._Improved_health_and_well_being', 'id': 81}>],\n",
       " [<Node element_id='4:d6043383-25ec-44a0-921e-2d58e02b99a6:73' labels=frozenset({'Value_Unilever_create'}) properties={'name': '4._reduced_Environmental_impact', 'id': 82}>],\n",
       " [<Node element_id='4:d6043383-25ec-44a0-921e-2d58e02b99a6:74' labels=frozenset({'Value_Unilever_create'}) properties={'name': '5._Enhanced_livelihoods', 'id': 83}>],\n",
       " [<Node element_id='4:d6043383-25ec-44a0-921e-2d58e02b99a6:75' labels=frozenset({'UK_Operations'}) properties={'name': 'Beauty/PC_division', 'id': 86}>],\n",
       " [<Node element_id='4:d6043383-25ec-44a0-921e-2d58e02b99a6:76' labels=frozenset({'UK_Operations'}) properties={'name': 'Food/Refresh_division', 'id': 87}>],\n",
       " [<Node element_id='4:d6043383-25ec-44a0-921e-2d58e02b99a6:77' labels=frozenset({'UK_Operations'}) properties={'name': 'HomeCare_division', 'id': 88}>],\n",
       " [<Node element_id='4:d6043383-25ec-44a0-921e-2d58e02b99a6:78' labels=frozenset({'Business_Transformation_themes'}) properties={'name': 'Alignment_with_Product_lifecycle', 'id': 89}>],\n",
       " [<Node element_id='4:d6043383-25ec-44a0-921e-2d58e02b99a6:79' labels=frozenset({'Business_Transformation_themes'}) properties={'name': 'Faster_product_portfolio_evolution', 'id': 90}>],\n",
       " [<Node element_id='4:d6043383-25ec-44a0-921e-2d58e02b99a6:80' labels=frozenset({'Business_Transformation_themes'}) properties={'name': 'Use_of_the_30_digital_platforms', 'id': 91}>],\n",
       " [<Node element_id='4:d6043383-25ec-44a0-921e-2d58e02b99a6:81' labels=frozenset({'Business_Transformation_themes'}) properties={'name': 'Digitising_R&D', 'id': 92}>],\n",
       " [<Node element_id='4:d6043383-25ec-44a0-921e-2d58e02b99a6:82' labels=frozenset({'Programme'}) properties={'name': 'Business_transformation_portfolio', 'id': 93}>],\n",
       " [<Node element_id='4:d6043383-25ec-44a0-921e-2d58e02b99a6:83' labels=frozenset({'Programme'}) properties={'name': 'Acquisitions', 'id': 94}>],\n",
       " [<Node element_id='4:d6043383-25ec-44a0-921e-2d58e02b99a6:84' labels=frozenset({'Programme'}) properties={'name': 'Divestment_', 'id': 95}>],\n",
       " [<Node element_id='4:d6043383-25ec-44a0-921e-2d58e02b99a6:85' labels=frozenset({'Programme'}) properties={'name': 'Organisational_transformation', 'id': 96}>],\n",
       " [<Node element_id='4:d6043383-25ec-44a0-921e-2d58e02b99a6:86' labels=frozenset({'Business_Transformation_themes'}) properties={'name': 'Digital_transformation', 'id': 97}>],\n",
       " [<Node element_id='4:d6043383-25ec-44a0-921e-2d58e02b99a6:87' labels=frozenset({'Project'}) properties={'name': 'human_capital_management_project', 'id': 98}>],\n",
       " [<Node element_id='4:d6043383-25ec-44a0-921e-2d58e02b99a6:88' labels=frozenset({'Project'}) properties={'name': 'supply_chain_improvement_project', 'id': 99}>],\n",
       " [<Node element_id='4:d6043383-25ec-44a0-921e-2d58e02b99a6:89' labels=frozenset({'Project'}) properties={'name': 'regulatory_compliance project', 'id': 100}>],\n",
       " [<Node element_id='4:d6043383-25ec-44a0-921e-2d58e02b99a6:90' labels=frozenset({'Our_Service_Offerings'}) properties={'name': 'P3M_Assessment', 'id': 101}>],\n",
       " [<Node element_id='4:d6043383-25ec-44a0-921e-2d58e02b99a6:91' labels=frozenset({'Our_Service_Offerings'}) properties={'name': 'P3M_Support', 'id': 102}>],\n",
       " [<Node element_id='4:d6043383-25ec-44a0-921e-2d58e02b99a6:92' labels=frozenset({'Our_Service_Offerings'}) properties={'name': 'Digitisation', 'id': 103}>],\n",
       " [<Node element_id='4:d6043383-25ec-44a0-921e-2d58e02b99a6:93' labels=frozenset({'Our_Service_Offerings'}) properties={'name': 'PMO_all_levels', 'id': 104}>],\n",
       " [<Node element_id='4:d6043383-25ec-44a0-921e-2d58e02b99a6:94' labels=frozenset({'Our_Service_Offerings'}) properties={'name': 'P3M_Optimisation', 'id': 105}>],\n",
       " [<Node element_id='4:d6043383-25ec-44a0-921e-2d58e02b99a6:95' labels=frozenset({'Our_Service_Offerings'}) properties={'name': 'Project_Programme_recovery', 'id': 106}>],\n",
       " [<Node element_id='4:d6043383-25ec-44a0-921e-2d58e02b99a6:96' labels=frozenset({'Our_Service_Offerings'}) properties={'name': 'Project_Programme_delivery', 'id': 107}>],\n",
       " [<Node element_id='4:d6043383-25ec-44a0-921e-2d58e02b99a6:97' labels=frozenset({'Our_Service_Offerings'}) properties={'name': 'Project_system_launch', 'id': 108}>],\n",
       " [<Node element_id='4:d6043383-25ec-44a0-921e-2d58e02b99a6:98' labels=frozenset({'Our_Service_Offerings'}) properties={'name': 'Portfolio_management', 'id': 109}>]]"
      ]
     },
     "execution_count": 5,
     "metadata": {},
     "output_type": "execute_result"
    }
   ],
   "source": [
    "ps_db.run(\"\"\"\n",
    "What are the nodes in the databse?\n",
    "\"\"\")"
   ]
  },
  {
   "cell_type": "code",
   "execution_count": 6,
   "metadata": {},
   "outputs": [
    {
     "name": "stdout",
     "output_type": "stream",
     "text": [
      "Retrying\n"
     ]
    },
    {
     "data": {
      "text/plain": [
       "[['COUNT(s)'], [8]]"
      ]
     },
     "execution_count": 6,
     "metadata": {},
     "output_type": "execute_result"
    }
   ],
   "source": [
    "ps_db.run(\"\"\"\n",
    "How many types of strategy theme?\n",
    "\"\"\")"
   ]
  },
  {
   "cell_type": "code",
   "execution_count": 7,
   "metadata": {},
   "outputs": [
    {
     "name": "stdout",
     "output_type": "stream",
     "text": [
      "Retrying\n"
     ]
    },
    {
     "data": {
      "text/plain": [
       "[['COUNT(DISTINCT q)'], [5]]"
      ]
     },
     "execution_count": 7,
     "metadata": {},
     "output_type": "execute_result"
    }
   ],
   "source": [
    "ps_db.run(\"\"\"\n",
    "How many types of Q4_triggers?\n",
    "\"\"\")"
   ]
  },
  {
   "cell_type": "code",
   "execution_count": 8,
   "metadata": {},
   "outputs": [
    {
     "data": {
      "text/plain": [
       "[['num_types', 'mitigation_types'],\n",
       " [7,\n",
       "  ['Executive_sponsorship',\n",
       "   'Steering_group',\n",
       "   'Regular_progress_updates',\n",
       "   'Broad_stakeholder_representation',\n",
       "   'Link_with_digital_programme_team',\n",
       "   'Appropriate_personnel',\n",
       "   'Monitor_volume_of_change_programmes']]]"
      ]
     },
     "execution_count": 8,
     "metadata": {},
     "output_type": "execute_result"
    }
   ],
   "source": [
    "ps_db.run(\"\"\"\n",
    "How many types of Mitigation and give the list of their names?\n",
    "\"\"\")"
   ]
  },
  {
   "cell_type": "code",
   "execution_count": 9,
   "metadata": {},
   "outputs": [
    {
     "name": "stdout",
     "output_type": "stream",
     "text": [
      "Retrying\n"
     ]
    },
    {
     "data": {
      "text/plain": [
       "[['n.name', 'n.id'],\n",
       " ['1._Consumer_benefits', 79],\n",
       " ['2._Top_&_bottom_line_growth', 80],\n",
       " ['3._Improved_health_and_well_being', 81],\n",
       " ['4._reduced_Environmental_impact', 82],\n",
       " ['5._Enhanced_livelihoods', 83]]"
      ]
     },
     "execution_count": 9,
     "metadata": {},
     "output_type": "execute_result"
    }
   ],
   "source": [
    "ps_db.run(\"\"\"\n",
    "\"What types of values that Unilever_create?\"\n",
    "\"\"\")"
   ]
  },
  {
   "cell_type": "code",
   "execution_count": null,
   "metadata": {},
   "outputs": [],
   "source": []
  },
  {
   "cell_type": "code",
   "execution_count": null,
   "metadata": {},
   "outputs": [],
   "source": []
  },
  {
   "cell_type": "code",
   "execution_count": null,
   "metadata": {},
   "outputs": [],
   "source": []
  }
 ],
 "metadata": {
  "colab": {
   "authorship_tag": "ABX9TyMV47wMTNlwFnmIA1EX1mSX",
   "include_colab_link": true,
   "provenance": []
  },
  "kernelspec": {
   "display_name": "chat",
   "language": "python",
   "name": "chat"
  },
  "language_info": {
   "codemirror_mode": {
    "name": "ipython",
    "version": 3
   },
   "file_extension": ".py",
   "mimetype": "text/x-python",
   "name": "python",
   "nbconvert_exporter": "python",
   "pygments_lexer": "ipython3",
   "version": "3.10.0"
  }
 },
 "nbformat": 4,
 "nbformat_minor": 1
}
