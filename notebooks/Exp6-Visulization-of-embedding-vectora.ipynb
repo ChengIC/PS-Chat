{
 "cells": [
  {
   "cell_type": "code",
   "execution_count": 1,
   "id": "52abfd12",
   "metadata": {},
   "outputs": [
    {
     "name": "stderr",
     "output_type": "stream",
     "text": [
      "/Users/rc/miniforge3/envs/chat/lib/python3.10/site-packages/pinecone/index.py:4: TqdmExperimentalWarning: Using `tqdm.autonotebook.tqdm` in notebook mode. Use `tqdm.tqdm` instead to force console mode (e.g. in jupyter console)\n",
      "  from tqdm.autonotebook import tqdm\n"
     ]
    }
   ],
   "source": [
    "import os \n",
    "from dotenv import load_dotenv\n",
    "import pinecone\n",
    "import numpy as np\n",
    "from nomic import atlas\n",
    "import nomic\n",
    "from tqdm import tqdm \n",
    "\n",
    "load_dotenv()\n",
    "openai_key = os.getenv('OPENAI_KEY')\n",
    "os.environ['OPENAI_API_KEY'] = openai_key\n",
    "\n",
    "pinecone_api_key = os.getenv('PINECONE_KEY')\n",
    "pinecone_env_name = os.getenv('PINECONE_ENV')\n",
    "pinecone_index_name = os.getenv('PINECONE_INDEX')\n",
    "nomic_api_key = os.getenv('NOMIC_KEY')\n",
    "\n",
    "pinecone_config = {\n",
    "    \"api_key\":pinecone_api_key,\n",
    "    \"env_name\":pinecone_env_name,\n",
    "    \"index_name\":pinecone_index_name\n",
    "}\n"
   ]
  },
  {
   "cell_type": "markdown",
   "id": "f0336337",
   "metadata": {},
   "source": [
    "# Load Basic of Pinecone Vectorstore"
   ]
  },
  {
   "cell_type": "code",
   "execution_count": 2,
   "id": "491b7246",
   "metadata": {},
   "outputs": [],
   "source": [
    "# Load vector store\n",
    "my_namespace = 'Unilever-2018-2019'\n",
    "pinecone.init(api_key=pinecone_api_key,environment=pinecone_env_name)\n",
    "index = pinecone.Index(pinecone_index_name)"
   ]
  },
  {
   "cell_type": "code",
   "execution_count": 3,
   "id": "1b634b40",
   "metadata": {},
   "outputs": [
    {
     "data": {
      "text/plain": [
       "IndexDescription(name='test-chatbot-ran', metric='cosine', replicas=1, dimension=1536.0, shards=1, pods=1, pod_type='p1', status={'ready': True, 'state': 'Ready'}, metadata_config=None, source_collection='')"
      ]
     },
     "execution_count": 3,
     "metadata": {},
     "output_type": "execute_result"
    }
   ],
   "source": [
    "pinecone.describe_index(pinecone_index_name)\n"
   ]
  },
  {
   "cell_type": "code",
   "execution_count": 4,
   "id": "2a62a42c",
   "metadata": {},
   "outputs": [
    {
     "data": {
      "text/plain": [
       "{'dimension': 1536,\n",
       " 'index_fullness': 0.1,\n",
       " 'namespaces': {'Unilever-2018-2019': {'vector_count': 1999},\n",
       "                'graph': {'vector_count': 119},\n",
       "                'graph_02': {'vector_count': 134}},\n",
       " 'total_vector_count': 2252}"
      ]
     },
     "execution_count": 4,
     "metadata": {},
     "output_type": "execute_result"
    }
   ],
   "source": [
    "index.describe_index_stats()"
   ]
  },
  {
   "cell_type": "markdown",
   "id": "5135934e",
   "metadata": {},
   "source": [
    "# Fetch Embedded Chunks"
   ]
  },
  {
   "cell_type": "code",
   "execution_count": 5,
   "id": "3fcbec5f",
   "metadata": {},
   "outputs": [],
   "source": [
    "# Since the list of ids are encrypted, therefore we need to query the vectors by getting the id list\n",
    "# for pinecone, the maximum fecth number of vector is 1000\n",
    "def fetch_id_list(index, number_ids=1999, my_namespace=\"Unilever-2018-2019\"):\n",
    "    pbar = tqdm(total = number_ids)\n",
    "    id_list = []\n",
    "    while len(id_list)<=number_ids:\n",
    "        test_vector = np.random.rand(1, 1536)\n",
    "        test_vector = test_vector.tolist()\n",
    "        matched_vectors = index.query(\n",
    "                  vector=test_vector,\n",
    "                  top_k=20,\n",
    "                  include_values=True,\n",
    "                  namespace=my_namespace)\n",
    "        \n",
    "        for matched_vector in matched_vectors['matches']:\n",
    "            macthed_id = matched_vector['id']\n",
    "            if macthed_id not in id_list:\n",
    "                id_list.append(macthed_id)\n",
    "                pbar.update(1)\n",
    "    return id_list"
   ]
  },
  {
   "cell_type": "code",
   "execution_count": 6,
   "id": "da3659ab",
   "metadata": {},
   "outputs": [],
   "source": [
    "# pdf_id_list = fetch_id_list(index, number_ids=1500, my_namespace=\"Unilever-2018-2019\")\n",
    "# pdf_id_list[:5]\n",
    "\n",
    "# with open('pdf_ids.txt', 'w') as file:\n",
    "#     for item in pdf_id_list:\n",
    "#         file.write('%s\\n' % item)"
   ]
  },
  {
   "cell_type": "code",
   "execution_count": 8,
   "id": "8a9c9669",
   "metadata": {},
   "outputs": [
    {
     "name": "stderr",
     "output_type": "stream",
     "text": [
      "112it [00:53,  2.09it/s]                                                        \n"
     ]
    }
   ],
   "source": [
    "# graph_id_list = fetch_id_list(index, number_ids=110, my_namespace=\"graph\")\n",
    "# with open('graph_ids.txt', 'w') as file:\n",
    "#     for item in graph_id_list:\n",
    "#         file.write('%s\\n' % item)"
   ]
  },
  {
   "cell_type": "code",
   "execution_count": 9,
   "id": "b91605d6",
   "metadata": {},
   "outputs": [],
   "source": [
    "with open('pdf_ids.txt', 'r') as file:\n",
    "    pdf_id_list = file.read().splitlines()"
   ]
  },
  {
   "cell_type": "code",
   "execution_count": 10,
   "id": "6d36c6e1",
   "metadata": {},
   "outputs": [],
   "source": [
    "with open('graph_ids.txt', 'r') as file:\n",
    "    graph_id_list = file.read().splitlines()"
   ]
  },
  {
   "cell_type": "markdown",
   "id": "4129d0b5",
   "metadata": {},
   "source": [
    "# <font color = red>Visualize the embeddings of PDF"
   ]
  },
  {
   "cell_type": "code",
   "execution_count": 11,
   "id": "e759458e",
   "metadata": {},
   "outputs": [],
   "source": [
    "def split_list(lst, sublist_size):\n",
    "    return [lst[i:i + sublist_size] for i in range(0, len(lst), sublist_size)]"
   ]
  },
  {
   "cell_type": "code",
   "execution_count": 17,
   "id": "ed9e71c7",
   "metadata": {},
   "outputs": [],
   "source": [
    "def get_embedding_and_ids (index, id_list, my_namespace):\n",
    "    if len(id_list)>1000:\n",
    "        split_id_lists = split_list(id_list,1000)\n",
    "    else: \n",
    "        split_id_lists = [id_list]\n",
    "        \n",
    "    ids = []\n",
    "    embeddings = []\n",
    "    \n",
    "    for my_id_list in tqdm(split_id_lists):\n",
    "        vectors = index.fetch(my_id_list, namespace=my_namespace)\n",
    "        for id, vector in vectors['vectors'].items():\n",
    "            ids.append(id)\n",
    "            embeddings.append(vector['values'])\n",
    "        \n",
    "    embeddings = np.array(embeddings)\n",
    "    \n",
    "    return ids, embeddings"
   ]
  },
  {
   "cell_type": "code",
   "execution_count": 18,
   "id": "49236c3e",
   "metadata": {},
   "outputs": [
    {
     "name": "stderr",
     "output_type": "stream",
     "text": [
      "100%|█████████████████████████████████████████████| 2/2 [00:53<00:00, 26.58s/it]\n"
     ]
    }
   ],
   "source": [
    "pdf_ids, pdf_embeddings = get_embedding_and_ids (index, pdf_id_list, \"Unilever-2018-2019\")"
   ]
  },
  {
   "cell_type": "code",
   "execution_count": 19,
   "id": "61f7aae1",
   "metadata": {},
   "outputs": [
    {
     "name": "stderr",
     "output_type": "stream",
     "text": [
      "\u001b[32m2023-06-29 15:18:03.313\u001b[0m | \u001b[1mINFO    \u001b[0m | \u001b[36mnomic.project\u001b[0m:\u001b[36m_create_project\u001b[0m:\u001b[36m749\u001b[0m - \u001b[1mCreating project `observant-agony` in organization `rancheng0918`\u001b[0m\n",
      "\u001b[32m2023-06-29 15:18:05.710\u001b[0m | \u001b[1mINFO    \u001b[0m | \u001b[36mnomic.atlas\u001b[0m:\u001b[36mmap_embeddings\u001b[0m:\u001b[36m107\u001b[0m - \u001b[1mUploading embeddings to Atlas.\u001b[0m\n",
      "2it [00:03,  1.72s/it]                                                          \n",
      "\u001b[32m2023-06-29 15:18:09.197\u001b[0m | \u001b[1mINFO    \u001b[0m | \u001b[36mnomic.project\u001b[0m:\u001b[36m_add_data\u001b[0m:\u001b[36m1371\u001b[0m - \u001b[1mUpload succeeded.\u001b[0m\n",
      "\u001b[32m2023-06-29 15:18:09.200\u001b[0m | \u001b[1mINFO    \u001b[0m | \u001b[36mnomic.atlas\u001b[0m:\u001b[36mmap_embeddings\u001b[0m:\u001b[36m126\u001b[0m - \u001b[1mEmbedding upload succeeded.\u001b[0m\n",
      "\u001b[32m2023-06-29 15:18:10.677\u001b[0m | \u001b[1mINFO    \u001b[0m | \u001b[36mnomic.project\u001b[0m:\u001b[36mcreate_index\u001b[0m:\u001b[36m1081\u001b[0m - \u001b[1mCreated map `observant-agony` in project `observant-agony`: https://atlas.nomic.ai/map/071122d2-63ae-4cbd-875d-73393b267e0e/0bf6f061-cbbd-4688-8a45-f76e34503cf2\u001b[0m\n",
      "\u001b[32m2023-06-29 15:18:10.680\u001b[0m | \u001b[1mINFO    \u001b[0m | \u001b[36mnomic.atlas\u001b[0m:\u001b[36mmap_embeddings\u001b[0m:\u001b[36m139\u001b[0m - \u001b[1mobservant-agony: https://atlas.nomic.ai/map/071122d2-63ae-4cbd-875d-73393b267e0e/0bf6f061-cbbd-4688-8a45-f76e34503cf2\u001b[0m\n"
     ]
    }
   ],
   "source": [
    "nomic.login(nomic_api_key)\n",
    "project = atlas.map_embeddings(embeddings=pdf_embeddings, data=[{'id': id} for id in pdf_ids], id_field='id')"
   ]
  },
  {
   "cell_type": "markdown",
   "id": "8715c5a6",
   "metadata": {},
   "source": [
    "# <font color = red>Visualize the embeddings of Graph"
   ]
  },
  {
   "cell_type": "code",
   "execution_count": 20,
   "id": "4808d48a",
   "metadata": {
    "scrolled": true
   },
   "outputs": [
    {
     "name": "stderr",
     "output_type": "stream",
     "text": [
      "100%|█████████████████████████████████████████████| 1/1 [00:02<00:00,  2.58s/it]\n",
      "\u001b[32m2023-06-29 15:18:16.080\u001b[0m | \u001b[1mINFO    \u001b[0m | \u001b[36mnomic.project\u001b[0m:\u001b[36m_create_project\u001b[0m:\u001b[36m749\u001b[0m - \u001b[1mCreating project `threatening-flatboat` in organization `rancheng0918`\u001b[0m\n",
      "\u001b[32m2023-06-29 15:18:18.079\u001b[0m | \u001b[1mINFO    \u001b[0m | \u001b[36mnomic.atlas\u001b[0m:\u001b[36mmap_embeddings\u001b[0m:\u001b[36m107\u001b[0m - \u001b[1mUploading embeddings to Atlas.\u001b[0m\n",
      "1it [00:01,  1.58s/it]\n",
      "\u001b[32m2023-06-29 15:18:19.671\u001b[0m | \u001b[1mINFO    \u001b[0m | \u001b[36mnomic.project\u001b[0m:\u001b[36m_add_data\u001b[0m:\u001b[36m1371\u001b[0m - \u001b[1mUpload succeeded.\u001b[0m\n",
      "\u001b[32m2023-06-29 15:18:19.673\u001b[0m | \u001b[1mINFO    \u001b[0m | \u001b[36mnomic.atlas\u001b[0m:\u001b[36mmap_embeddings\u001b[0m:\u001b[36m126\u001b[0m - \u001b[1mEmbedding upload succeeded.\u001b[0m\n",
      "\u001b[32m2023-06-29 15:18:21.121\u001b[0m | \u001b[1mINFO    \u001b[0m | \u001b[36mnomic.project\u001b[0m:\u001b[36mcreate_index\u001b[0m:\u001b[36m1081\u001b[0m - \u001b[1mCreated map `threatening-flatboat` in project `threatening-flatboat`: https://atlas.nomic.ai/map/6a180834-b43e-4d27-8523-08e443726486/973a49fb-4e7a-4c6e-9272-60c2c7e9a1ee\u001b[0m\n",
      "\u001b[32m2023-06-29 15:18:21.122\u001b[0m | \u001b[1mINFO    \u001b[0m | \u001b[36mnomic.atlas\u001b[0m:\u001b[36mmap_embeddings\u001b[0m:\u001b[36m139\u001b[0m - \u001b[1mthreatening-flatboat: https://atlas.nomic.ai/map/6a180834-b43e-4d27-8523-08e443726486/973a49fb-4e7a-4c6e-9272-60c2c7e9a1ee\u001b[0m\n"
     ]
    }
   ],
   "source": [
    "graph_ids, graph_embeddings = get_embedding_and_ids (index, graph_id_list, \"graph\")\n",
    "project = atlas.map_embeddings(embeddings=graph_embeddings, data=[{'id': id} for id in graph_ids], id_field='id')"
   ]
  },
  {
   "cell_type": "markdown",
   "id": "0da2ee40",
   "metadata": {},
   "source": [
    "# <font color=\"red\">Mapping both graphs on atlas"
   ]
  },
  {
   "cell_type": "code",
   "execution_count": 21,
   "id": "3fbd6a11",
   "metadata": {},
   "outputs": [],
   "source": [
    "def create_data_category(cat_name, id_list):\n",
    "    \n",
    "    data = [\n",
    "        {'category': cat_name, 'id': i}\n",
    "            for i in id_list\n",
    "    ]\n",
    "    \n",
    "    return data\n",
    "    "
   ]
  },
  {
   "cell_type": "code",
   "execution_count": 22,
   "id": "6454a530",
   "metadata": {},
   "outputs": [
    {
     "name": "stderr",
     "output_type": "stream",
     "text": [
      "\u001b[32m2023-06-29 15:18:41.743\u001b[0m | \u001b[1mINFO    \u001b[0m | \u001b[36mnomic.project\u001b[0m:\u001b[36m_create_project\u001b[0m:\u001b[36m749\u001b[0m - \u001b[1mCreating project `godly-average` in organization `rancheng0918`\u001b[0m\n",
      "\u001b[32m2023-06-29 15:18:44.109\u001b[0m | \u001b[1mINFO    \u001b[0m | \u001b[36mnomic.atlas\u001b[0m:\u001b[36mmap_embeddings\u001b[0m:\u001b[36m107\u001b[0m - \u001b[1mUploading embeddings to Atlas.\u001b[0m\n",
      "2it [00:03,  1.59s/it]                                                          \n",
      "\u001b[32m2023-06-29 15:18:47.337\u001b[0m | \u001b[1mINFO    \u001b[0m | \u001b[36mnomic.project\u001b[0m:\u001b[36m_add_data\u001b[0m:\u001b[36m1371\u001b[0m - \u001b[1mUpload succeeded.\u001b[0m\n",
      "\u001b[32m2023-06-29 15:18:47.342\u001b[0m | \u001b[1mINFO    \u001b[0m | \u001b[36mnomic.atlas\u001b[0m:\u001b[36mmap_embeddings\u001b[0m:\u001b[36m126\u001b[0m - \u001b[1mEmbedding upload succeeded.\u001b[0m\n",
      "\u001b[32m2023-06-29 15:18:48.801\u001b[0m | \u001b[1mINFO    \u001b[0m | \u001b[36mnomic.project\u001b[0m:\u001b[36mcreate_index\u001b[0m:\u001b[36m1081\u001b[0m - \u001b[1mCreated map `godly-average` in project `godly-average`: https://atlas.nomic.ai/map/9f825921-bf5c-49df-b1d2-7c38bb945c68/68939303-f484-4ed3-b511-c2665d21fcf3\u001b[0m\n",
      "\u001b[32m2023-06-29 15:18:48.804\u001b[0m | \u001b[1mINFO    \u001b[0m | \u001b[36mnomic.atlas\u001b[0m:\u001b[36mmap_embeddings\u001b[0m:\u001b[36m139\u001b[0m - \u001b[1mgodly-average: https://atlas.nomic.ai/map/9f825921-bf5c-49df-b1d2-7c38bb945c68/68939303-f484-4ed3-b511-c2665d21fcf3\u001b[0m\n"
     ]
    }
   ],
   "source": [
    "all_embeddings = np.concatenate((pdf_embeddings, graph_embeddings),axis=0)\n",
    "all_data = create_data_category('pdf-embedding', pdf_ids) + create_data_category('graph-embedding', graph_ids)\n",
    "\n",
    "project = atlas.map_embeddings(embeddings=all_embeddings,\n",
    "                                data=all_data,\n",
    "                                id_field='id',\n",
    "                                colorable_fields=['category']\n",
    "                                )"
   ]
  },
  {
   "cell_type": "markdown",
   "id": "11c33e67",
   "metadata": {},
   "source": [
    " <font size =5 color=green> The NOMIC package is user-friendly for sharing and has integrated settings for the plot. As we can see, the embeddings of graph has closer distance with certain parts of embedded vectors"
   ]
  },
  {
   "cell_type": "markdown",
   "id": "ce333dca",
   "metadata": {},
   "source": [
    " <font size =5 color=orange> Limitations for implementation: 1) Pinecone vector database do not have the qurey of ids of vectorstore, I wrote a function using random vectors to fetch the id list. 2) pinecone can only fetch 1000 embedding vectors each time. Therefore, I recommend that we should save and store the IDs and embeddings before uploading to pinecone for delopyment."
   ]
  },
  {
   "cell_type": "markdown",
   "id": "480de35e",
   "metadata": {},
   "source": []
  },
  {
   "cell_type": "code",
   "execution_count": null,
   "id": "a2107b79",
   "metadata": {},
   "outputs": [],
   "source": []
  }
 ],
 "metadata": {
  "kernelspec": {
   "display_name": "chat",
   "language": "python",
   "name": "chat"
  },
  "language_info": {
   "codemirror_mode": {
    "name": "ipython",
    "version": 3
   },
   "file_extension": ".py",
   "mimetype": "text/x-python",
   "name": "python",
   "nbconvert_exporter": "python",
   "pygments_lexer": "ipython3",
   "version": "3.10.0"
  }
 },
 "nbformat": 4,
 "nbformat_minor": 5
}
